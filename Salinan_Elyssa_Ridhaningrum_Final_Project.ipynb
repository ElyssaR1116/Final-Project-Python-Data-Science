{
  "nbformat": 4,
  "nbformat_minor": 0,
  "metadata": {
    "colab": {
      "name": "Salinan Elyssa Ridhaningrum_Final Project.ipynb",
      "provenance": [],
      "collapsed_sections": [],
      "include_colab_link": true
    },
    "kernelspec": {
      "name": "python3",
      "display_name": "Python 3"
    }
  },
  "cells": [
    {
      "cell_type": "markdown",
      "metadata": {
        "id": "view-in-github",
        "colab_type": "text"
      },
      "source": [
        "<a href=\"https://colab.research.google.com/github/ElyssaR1116/Final-Project-Python-Data-Science-/blob/main/Salinan_Elyssa_Ridhaningrum_Final_Project.ipynb\" target=\"_parent\"><img src=\"https://colab.research.google.com/assets/colab-badge.svg\" alt=\"Open In Colab\"/></a>"
      ]
    },
    {
      "cell_type": "markdown",
      "metadata": {
        "id": "VBDtyvUMd4Sw"
      },
      "source": [
        "#1. restoaccepts, userpayment"
      ]
    },
    {
      "cell_type": "markdown",
      "metadata": {
        "id": "q8_3HiKtRBlJ"
      },
      "source": [
        "Fix Payment method string. Remove '_','-' and Capitalized first word in restoaccepts.csv and userpayment.csv, and all uppercase for VISA."
      ]
    },
    {
      "cell_type": "code",
      "metadata": {
        "id": "jGivgjrJ-sDw",
        "colab": {
          "base_uri": "https://localhost:8080/",
          "height": 35
        },
        "outputId": "6738a43e-3176-4194-d3c9-27cbe8bebb5a"
      },
      "source": [
        "#YOUR CODE HERE\n",
        "\n",
        "from google.colab import drive\n",
        "drive.mount('/content/drive')"
      ],
      "execution_count": null,
      "outputs": [
        {
          "output_type": "stream",
          "text": [
            "Mounted at /content/drive\n"
          ],
          "name": "stdout"
        }
      ]
    },
    {
      "cell_type": "code",
      "metadata": {
        "id": "zyXm5c1KRvZU"
      },
      "source": [
        "import pandas as pd\n",
        "import numpy as np\n",
        "\n",
        "resto_accepts = pd.read_csv('/content/drive/My Drive/Python For Data Science Project/Week 4_Final Project/data/restoaccepts.csv')\n",
        "user_payment = pd.read_csv('/content/drive/My Drive/Python For Data Science Project/Week 4_Final Project/data/userpayment.csv')"
      ],
      "execution_count": null,
      "outputs": []
    },
    {
      "cell_type": "code",
      "metadata": {
        "id": "Y38Vi62xO2G9",
        "colab": {
          "base_uri": "https://localhost:8080/",
          "height": 206
        },
        "outputId": "b5249cfc-7bb9-4fd7-e6ef-a2b048a6f5d2"
      },
      "source": [
        "resto_accepts.head()"
      ],
      "execution_count": null,
      "outputs": [
        {
          "output_type": "execute_result",
          "data": {
            "text/html": [
              "<div>\n",
              "<style scoped>\n",
              "    .dataframe tbody tr th:only-of-type {\n",
              "        vertical-align: middle;\n",
              "    }\n",
              "\n",
              "    .dataframe tbody tr th {\n",
              "        vertical-align: top;\n",
              "    }\n",
              "\n",
              "    .dataframe thead th {\n",
              "        text-align: right;\n",
              "    }\n",
              "</style>\n",
              "<table border=\"1\" class=\"dataframe\">\n",
              "  <thead>\n",
              "    <tr style=\"text-align: right;\">\n",
              "      <th></th>\n",
              "      <th>placeID</th>\n",
              "      <th>Rpayment</th>\n",
              "    </tr>\n",
              "  </thead>\n",
              "  <tbody>\n",
              "    <tr>\n",
              "      <th>0</th>\n",
              "      <td>135110</td>\n",
              "      <td>cash</td>\n",
              "    </tr>\n",
              "    <tr>\n",
              "      <th>1</th>\n",
              "      <td>135110</td>\n",
              "      <td>VISA</td>\n",
              "    </tr>\n",
              "    <tr>\n",
              "      <th>2</th>\n",
              "      <td>135110</td>\n",
              "      <td>MasterCard-Eurocard</td>\n",
              "    </tr>\n",
              "    <tr>\n",
              "      <th>3</th>\n",
              "      <td>135110</td>\n",
              "      <td>American_Express</td>\n",
              "    </tr>\n",
              "    <tr>\n",
              "      <th>4</th>\n",
              "      <td>135110</td>\n",
              "      <td>bank_debit_cards</td>\n",
              "    </tr>\n",
              "  </tbody>\n",
              "</table>\n",
              "</div>"
            ],
            "text/plain": [
              "   placeID             Rpayment\n",
              "0   135110                 cash\n",
              "1   135110                 VISA\n",
              "2   135110  MasterCard-Eurocard\n",
              "3   135110     American_Express\n",
              "4   135110     bank_debit_cards"
            ]
          },
          "metadata": {
            "tags": []
          },
          "execution_count": 5
        }
      ]
    },
    {
      "cell_type": "code",
      "metadata": {
        "id": "Px0cFlc8F5Y_",
        "colab": {
          "base_uri": "https://localhost:8080/",
          "height": 257
        },
        "outputId": "5f33e554-df53-44ce-e063-a2e2702cec14"
      },
      "source": [
        "clean_data_rpy = resto_accepts.copy()\n",
        "clean_data_rpy.Rpayment.value_counts()"
      ],
      "execution_count": null,
      "outputs": [
        {
          "output_type": "execute_result",
          "data": {
            "text/plain": [
              "cash                   500\n",
              "MasterCard-Eurocard    194\n",
              "VISA                   172\n",
              "American_Express       153\n",
              "bank_debit_cards       130\n",
              "Visa                    83\n",
              "Diners_Club             42\n",
              "Discover                11\n",
              "checks                  10\n",
              "gift_certificates        7\n",
              "Carte_Blanche            7\n",
              "Japan_Credit_Bureau      5\n",
              "Name: Rpayment, dtype: int64"
            ]
          },
          "metadata": {
            "tags": []
          },
          "execution_count": 6
        }
      ]
    },
    {
      "cell_type": "code",
      "metadata": {
        "id": "JneHCpfqGLKh"
      },
      "source": [
        "clean_data_rpy['Rpayment'] = clean_data_rpy.Rpayment.str.replace('_',' ')\n",
        "clean_data_rpy['Rpayment'] = clean_data_rpy.Rpayment.str.replace('-',' ')\n",
        "clean_data_rpy['Rpayment'] = clean_data_rpy.Rpayment.str.title()\n",
        "clean_data_rpy['Rpayment'] = clean_data_rpy.Rpayment.str.replace('Visa','VISA')"
      ],
      "execution_count": null,
      "outputs": []
    },
    {
      "cell_type": "code",
      "metadata": {
        "id": "wPpbocuwSASF",
        "colab": {
          "base_uri": "https://localhost:8080/",
          "height": 239
        },
        "outputId": "59cdca7e-a0a9-427b-fea2-3e512db81d65"
      },
      "source": [
        "resto_accepts = clean_data_rpy.copy()\n",
        "resto_accepts.Rpayment.value_counts()"
      ],
      "execution_count": null,
      "outputs": [
        {
          "output_type": "execute_result",
          "data": {
            "text/plain": [
              "Cash                   500\n",
              "VISA                   255\n",
              "Mastercard Eurocard    194\n",
              "American Express       153\n",
              "Bank Debit Cards       130\n",
              "Diners Club             42\n",
              "Discover                11\n",
              "Checks                  10\n",
              "Carte Blanche            7\n",
              "Gift Certificates        7\n",
              "Japan Credit Bureau      5\n",
              "Name: Rpayment, dtype: int64"
            ]
          },
          "metadata": {
            "tags": []
          },
          "execution_count": 8
        }
      ]
    },
    {
      "cell_type": "code",
      "metadata": {
        "id": "XgUGvAQZIMhA",
        "colab": {
          "base_uri": "https://localhost:8080/",
          "height": 206
        },
        "outputId": "28607497-885f-4c91-8b46-bf7644486a37"
      },
      "source": [
        "user_payment.head()"
      ],
      "execution_count": null,
      "outputs": [
        {
          "output_type": "execute_result",
          "data": {
            "text/html": [
              "<div>\n",
              "<style scoped>\n",
              "    .dataframe tbody tr th:only-of-type {\n",
              "        vertical-align: middle;\n",
              "    }\n",
              "\n",
              "    .dataframe tbody tr th {\n",
              "        vertical-align: top;\n",
              "    }\n",
              "\n",
              "    .dataframe thead th {\n",
              "        text-align: right;\n",
              "    }\n",
              "</style>\n",
              "<table border=\"1\" class=\"dataframe\">\n",
              "  <thead>\n",
              "    <tr style=\"text-align: right;\">\n",
              "      <th></th>\n",
              "      <th>userID</th>\n",
              "      <th>Upayment</th>\n",
              "    </tr>\n",
              "  </thead>\n",
              "  <tbody>\n",
              "    <tr>\n",
              "      <th>0</th>\n",
              "      <td>U1001</td>\n",
              "      <td>cash</td>\n",
              "    </tr>\n",
              "    <tr>\n",
              "      <th>1</th>\n",
              "      <td>U1002</td>\n",
              "      <td>cash</td>\n",
              "    </tr>\n",
              "    <tr>\n",
              "      <th>2</th>\n",
              "      <td>U1003</td>\n",
              "      <td>cash</td>\n",
              "    </tr>\n",
              "    <tr>\n",
              "      <th>3</th>\n",
              "      <td>U1004</td>\n",
              "      <td>cash</td>\n",
              "    </tr>\n",
              "    <tr>\n",
              "      <th>4</th>\n",
              "      <td>U1004</td>\n",
              "      <td>bank_debit_cards</td>\n",
              "    </tr>\n",
              "  </tbody>\n",
              "</table>\n",
              "</div>"
            ],
            "text/plain": [
              "  userID          Upayment\n",
              "0  U1001              cash\n",
              "1  U1002              cash\n",
              "2  U1003              cash\n",
              "3  U1004              cash\n",
              "4  U1004  bank_debit_cards"
            ]
          },
          "metadata": {
            "tags": []
          },
          "execution_count": 9
        }
      ]
    },
    {
      "cell_type": "code",
      "metadata": {
        "id": "_lMHOV7CO_dL",
        "colab": {
          "base_uri": "https://localhost:8080/",
          "height": 128
        },
        "outputId": "eef3c4f8-3308-4dd4-f2bc-ce6c8aa19041"
      },
      "source": [
        "clean_data_upy = user_payment.copy()\n",
        "clean_data_upy.Upayment.value_counts()"
      ],
      "execution_count": null,
      "outputs": [
        {
          "output_type": "execute_result",
          "data": {
            "text/plain": [
              "cash                   131\n",
              "bank_debit_cards        22\n",
              "VISA                    17\n",
              "MasterCard-Eurocard      4\n",
              "American_Express         3\n",
              "Name: Upayment, dtype: int64"
            ]
          },
          "metadata": {
            "tags": []
          },
          "execution_count": 10
        }
      ]
    },
    {
      "cell_type": "code",
      "metadata": {
        "id": "HruC53VFPtYW"
      },
      "source": [
        "clean_data_upy['Upayment'] = clean_data_upy.Upayment.str.replace('_',' ')\n",
        "clean_data_upy['Upayment'] = clean_data_upy.Upayment.str.replace('-',' ')\n",
        "clean_data_upy['Upayment'] = clean_data_upy.Upayment.str.title()\n",
        "clean_data_upy['Upayment'] = clean_data_upy.Upayment.str.replace('Visa','VISA')"
      ],
      "execution_count": null,
      "outputs": []
    },
    {
      "cell_type": "code",
      "metadata": {
        "id": "bLpS6pkdRhDH",
        "colab": {
          "base_uri": "https://localhost:8080/",
          "height": 128
        },
        "outputId": "5a7a8bba-28ae-4a62-8eab-4160bfce2ea7"
      },
      "source": [
        "user_payment = clean_data_upy.copy()\n",
        "user_payment.Upayment.value_counts()"
      ],
      "execution_count": null,
      "outputs": [
        {
          "output_type": "execute_result",
          "data": {
            "text/plain": [
              "Cash                   131\n",
              "Bank Debit Cards        22\n",
              "VISA                    17\n",
              "Mastercard Eurocard      4\n",
              "American Express         3\n",
              "Name: Upayment, dtype: int64"
            ]
          },
          "metadata": {
            "tags": []
          },
          "execution_count": 12
        }
      ]
    },
    {
      "cell_type": "code",
      "metadata": {
        "id": "wwfCO00SeC1V",
        "colab": {
          "base_uri": "https://localhost:8080/",
          "height": 54
        },
        "outputId": "55e66285-80f3-4c10-a835-7f80e738ce69"
      },
      "source": [
        "#RUN THIS CELL TO GET YOUR SCORE AND DO NOT EDIT\n",
        "import os\n",
        "\n",
        "os.chdir('/content/drive/My Drive/Python For Data Science Project/Week 4_Final Project/data')\n",
        "import Restopayment\n",
        "import pandas as pd\n",
        "import numpy as np\n",
        "\n",
        "#CHANGE NONE TO YOUR OWN LIST VARIABLE NAME\n",
        "print(Restopayment.score_resto_pay(resto_accepts.Rpayment.unique()))\n",
        "print(Restopayment.score_user_pay(user_payment.Upayment.unique()))"
      ],
      "execution_count": null,
      "outputs": [
        {
          "output_type": "stream",
          "text": [
            "Your score restaurant payment: 100.0%\n",
            "Your score for user payment: 100.0%\n"
          ],
          "name": "stdout"
        }
      ]
    },
    {
      "cell_type": "markdown",
      "metadata": {
        "id": "9n_fJ8-khmGe"
      },
      "source": [
        "#2. restocuisine, usercuisine"
      ]
    },
    {
      "cell_type": "markdown",
      "metadata": {
        "id": "MfjEBjfwhnA3"
      },
      "source": [
        "Fix cuisine string. Remove '_','-'."
      ]
    },
    {
      "cell_type": "code",
      "metadata": {
        "id": "WucJHjsUjIIm"
      },
      "source": [
        "#YOUR CODE HERE\n",
        "\n",
        "import pandas as pd\n",
        "import numpy as np\n",
        "\n",
        "resto_cuisine = pd.read_csv('/content/drive/My Drive/Python For Data Science Project/Week 4_Final Project/data/restocuisine.csv')\n",
        "user_cuisine = pd.read_csv('/content/drive/My Drive/Python For Data Science Project/Week 4_Final Project/data/usercuisine.csv')"
      ],
      "execution_count": null,
      "outputs": []
    },
    {
      "cell_type": "code",
      "metadata": {
        "id": "XemlF4MOKk-L",
        "colab": {
          "base_uri": "https://localhost:8080/",
          "height": 206
        },
        "outputId": "331af0db-cc99-48b6-cfbd-7b1201bf0497"
      },
      "source": [
        "resto_cuisine.head()"
      ],
      "execution_count": null,
      "outputs": [
        {
          "output_type": "execute_result",
          "data": {
            "text/html": [
              "<div>\n",
              "<style scoped>\n",
              "    .dataframe tbody tr th:only-of-type {\n",
              "        vertical-align: middle;\n",
              "    }\n",
              "\n",
              "    .dataframe tbody tr th {\n",
              "        vertical-align: top;\n",
              "    }\n",
              "\n",
              "    .dataframe thead th {\n",
              "        text-align: right;\n",
              "    }\n",
              "</style>\n",
              "<table border=\"1\" class=\"dataframe\">\n",
              "  <thead>\n",
              "    <tr style=\"text-align: right;\">\n",
              "      <th></th>\n",
              "      <th>placeID</th>\n",
              "      <th>Rcuisine</th>\n",
              "    </tr>\n",
              "  </thead>\n",
              "  <tbody>\n",
              "    <tr>\n",
              "      <th>0</th>\n",
              "      <td>135110</td>\n",
              "      <td>Spanish</td>\n",
              "    </tr>\n",
              "    <tr>\n",
              "      <th>1</th>\n",
              "      <td>135109</td>\n",
              "      <td>Italian</td>\n",
              "    </tr>\n",
              "    <tr>\n",
              "      <th>2</th>\n",
              "      <td>135107</td>\n",
              "      <td>Latin_American</td>\n",
              "    </tr>\n",
              "    <tr>\n",
              "      <th>3</th>\n",
              "      <td>135106</td>\n",
              "      <td>Mexican</td>\n",
              "    </tr>\n",
              "    <tr>\n",
              "      <th>4</th>\n",
              "      <td>135105</td>\n",
              "      <td>Fast_Food</td>\n",
              "    </tr>\n",
              "  </tbody>\n",
              "</table>\n",
              "</div>"
            ],
            "text/plain": [
              "   placeID        Rcuisine\n",
              "0   135110         Spanish\n",
              "1   135109         Italian\n",
              "2   135107  Latin_American\n",
              "3   135106         Mexican\n",
              "4   135105       Fast_Food"
            ]
          },
          "metadata": {
            "tags": []
          },
          "execution_count": 15
        }
      ]
    },
    {
      "cell_type": "code",
      "metadata": {
        "id": "nQNNLuB3R9q9",
        "colab": {
          "base_uri": "https://localhost:8080/",
          "height": 1000
        },
        "outputId": "8ae8d578-7bb1-46d1-f9f0-d5a69846b638"
      },
      "source": [
        "clean_data = resto_cuisine.copy()\n",
        "clean_data.Rcuisine.value_counts()"
      ],
      "execution_count": null,
      "outputs": [
        {
          "output_type": "execute_result",
          "data": {
            "text/plain": [
              "Mexican                 239\n",
              "International            62\n",
              "American                 59\n",
              "Dutch-Belgian            55\n",
              "Italian                  42\n",
              "Greek                    33\n",
              "Bar                      32\n",
              "French                   31\n",
              "Cafe-Coffee_Shop         27\n",
              "Pizzeria                 25\n",
              "Bar_Pub_Brewery          24\n",
              "Cafeteria                23\n",
              "Chinese                  21\n",
              "Fast_Food                20\n",
              "Seafood                  18\n",
              "Japanese                 17\n",
              "Family                   14\n",
              "German                   14\n",
              "Burgers                  13\n",
              "Mediterranean            13\n",
              "Vegetarian               10\n",
              "Contemporary              9\n",
              "Deli-Sandwiches           9\n",
              "Steaks                    8\n",
              "Hot_Dogs                  7\n",
              "Asian                     7\n",
              "Latin_American            7\n",
              "Bakery                    6\n",
              "Sushi                     6\n",
              "Juice                     6\n",
              "Polish                    5\n",
              "Armenian                  5\n",
              "Continental-European      4\n",
              "Southwestern              3\n",
              "Dessert-Ice_Cream         3\n",
              "Diner                     3\n",
              "Regional                  3\n",
              "Breakfast-Brunch          3\n",
              "Barbecue                  3\n",
              "African                   3\n",
              "Spanish                   3\n",
              "Vietnamese                2\n",
              "Game                      2\n",
              "Eastern_European          2\n",
              "Korean                    1\n",
              "Organic-Healthy           1\n",
              "Ethiopian                 1\n",
              "Thai                      1\n",
              "Afghan                    1\n",
              "Brazilian                 1\n",
              "Southern                  1\n",
              "Soup                      1\n",
              "Caribbean                 1\n",
              "Persian                   1\n",
              "Fine_Dining               1\n",
              "California                1\n",
              "Mongolian                 1\n",
              "Turkish                   1\n",
              "Bagels                    1\n",
              "Name: Rcuisine, dtype: int64"
            ]
          },
          "metadata": {
            "tags": []
          },
          "execution_count": 16
        }
      ]
    },
    {
      "cell_type": "code",
      "metadata": {
        "id": "wfDO32veSh4g"
      },
      "source": [
        "clean_data['Rcuisine'] = clean_data.Rcuisine.str.replace('_',' ')\n",
        "clean_data['Rcuisine'] = clean_data.Rcuisine.str.replace('-',' ')"
      ],
      "execution_count": null,
      "outputs": []
    },
    {
      "cell_type": "code",
      "metadata": {
        "id": "cUdHcECZ2rgT",
        "colab": {
          "base_uri": "https://localhost:8080/",
          "height": 1000
        },
        "outputId": "0490bc19-35f0-4382-dab4-676472a395fd"
      },
      "source": [
        "resto_cuisine = clean_data.copy()\n",
        "resto_cuisine.Rcuisine.value_counts()"
      ],
      "execution_count": null,
      "outputs": [
        {
          "output_type": "execute_result",
          "data": {
            "text/plain": [
              "Mexican                 239\n",
              "International            62\n",
              "American                 59\n",
              "Dutch Belgian            55\n",
              "Italian                  42\n",
              "Greek                    33\n",
              "Bar                      32\n",
              "French                   31\n",
              "Cafe Coffee Shop         27\n",
              "Pizzeria                 25\n",
              "Bar Pub Brewery          24\n",
              "Cafeteria                23\n",
              "Chinese                  21\n",
              "Fast Food                20\n",
              "Seafood                  18\n",
              "Japanese                 17\n",
              "German                   14\n",
              "Family                   14\n",
              "Mediterranean            13\n",
              "Burgers                  13\n",
              "Vegetarian               10\n",
              "Contemporary              9\n",
              "Deli Sandwiches           9\n",
              "Steaks                    8\n",
              "Latin American            7\n",
              "Asian                     7\n",
              "Hot Dogs                  7\n",
              "Bakery                    6\n",
              "Sushi                     6\n",
              "Juice                     6\n",
              "Polish                    5\n",
              "Armenian                  5\n",
              "Continental European      4\n",
              "Spanish                   3\n",
              "Breakfast Brunch          3\n",
              "Dessert Ice Cream         3\n",
              "Barbecue                  3\n",
              "Regional                  3\n",
              "Diner                     3\n",
              "Southwestern              3\n",
              "African                   3\n",
              "Vietnamese                2\n",
              "Eastern European          2\n",
              "Game                      2\n",
              "Persian                   1\n",
              "Ethiopian                 1\n",
              "California                1\n",
              "Thai                      1\n",
              "Korean                    1\n",
              "Brazilian                 1\n",
              "Fine Dining               1\n",
              "Afghan                    1\n",
              "Caribbean                 1\n",
              "Southern                  1\n",
              "Organic Healthy           1\n",
              "Soup                      1\n",
              "Mongolian                 1\n",
              "Turkish                   1\n",
              "Bagels                    1\n",
              "Name: Rcuisine, dtype: int64"
            ]
          },
          "metadata": {
            "tags": []
          },
          "execution_count": 18
        }
      ]
    },
    {
      "cell_type": "code",
      "metadata": {
        "id": "fphyGOKIRjQU",
        "colab": {
          "base_uri": "https://localhost:8080/",
          "height": 206
        },
        "outputId": "42a72bf4-7d81-4620-c1e7-9ef905dd5cc4"
      },
      "source": [
        "user_cuisine.head()"
      ],
      "execution_count": null,
      "outputs": [
        {
          "output_type": "execute_result",
          "data": {
            "text/html": [
              "<div>\n",
              "<style scoped>\n",
              "    .dataframe tbody tr th:only-of-type {\n",
              "        vertical-align: middle;\n",
              "    }\n",
              "\n",
              "    .dataframe tbody tr th {\n",
              "        vertical-align: top;\n",
              "    }\n",
              "\n",
              "    .dataframe thead th {\n",
              "        text-align: right;\n",
              "    }\n",
              "</style>\n",
              "<table border=\"1\" class=\"dataframe\">\n",
              "  <thead>\n",
              "    <tr style=\"text-align: right;\">\n",
              "      <th></th>\n",
              "      <th>userID</th>\n",
              "      <th>Rcuisine</th>\n",
              "    </tr>\n",
              "  </thead>\n",
              "  <tbody>\n",
              "    <tr>\n",
              "      <th>0</th>\n",
              "      <td>U1001</td>\n",
              "      <td>American</td>\n",
              "    </tr>\n",
              "    <tr>\n",
              "      <th>1</th>\n",
              "      <td>U1002</td>\n",
              "      <td>Mexican</td>\n",
              "    </tr>\n",
              "    <tr>\n",
              "      <th>2</th>\n",
              "      <td>U1003</td>\n",
              "      <td>Mexican</td>\n",
              "    </tr>\n",
              "    <tr>\n",
              "      <th>3</th>\n",
              "      <td>U1004</td>\n",
              "      <td>Bakery</td>\n",
              "    </tr>\n",
              "    <tr>\n",
              "      <th>4</th>\n",
              "      <td>U1004</td>\n",
              "      <td>Breakfast-Brunch</td>\n",
              "    </tr>\n",
              "  </tbody>\n",
              "</table>\n",
              "</div>"
            ],
            "text/plain": [
              "  userID          Rcuisine\n",
              "0  U1001          American\n",
              "1  U1002           Mexican\n",
              "2  U1003           Mexican\n",
              "3  U1004            Bakery\n",
              "4  U1004  Breakfast-Brunch"
            ]
          },
          "metadata": {
            "tags": []
          },
          "execution_count": 19
        }
      ]
    },
    {
      "cell_type": "code",
      "metadata": {
        "id": "XXgme82KSFll",
        "colab": {
          "base_uri": "https://localhost:8080/",
          "height": 239
        },
        "outputId": "c53c7280-29d1-4ce8-a8cc-0d74b1b430b1"
      },
      "source": [
        "clean_data = user_cuisine.copy()\n",
        "clean_data.Rcuisine.value_counts()"
      ],
      "execution_count": null,
      "outputs": [
        {
          "output_type": "execute_result",
          "data": {
            "text/plain": [
              "Mexican             97\n",
              "American            11\n",
              "Pizzeria             9\n",
              "Cafeteria            9\n",
              "Cafe-Coffee_Shop     8\n",
              "                    ..\n",
              "Dutch-Belgian        1\n",
              "Dim_Sum              1\n",
              "Jamaican             1\n",
              "Brazilian            1\n",
              "Israeli              1\n",
              "Name: Rcuisine, Length: 103, dtype: int64"
            ]
          },
          "metadata": {
            "tags": []
          },
          "execution_count": 20
        }
      ]
    },
    {
      "cell_type": "code",
      "metadata": {
        "id": "fG2gj3knSnW5"
      },
      "source": [
        "clean_data['Rcuisine'] = clean_data.Rcuisine.str.replace('_',' ')\n",
        "clean_data['Rcuisine'] = clean_data.Rcuisine.str.replace('-',' ')"
      ],
      "execution_count": null,
      "outputs": []
    },
    {
      "cell_type": "code",
      "metadata": {
        "id": "uKD-oWZGUFbi",
        "colab": {
          "base_uri": "https://localhost:8080/",
          "height": 239
        },
        "outputId": "7f82731c-c166-4334-add8-258c56a29248"
      },
      "source": [
        "user_cuisine = clean_data.copy()\n",
        "user_cuisine.Rcuisine.value_counts()"
      ],
      "execution_count": null,
      "outputs": [
        {
          "output_type": "execute_result",
          "data": {
            "text/plain": [
              "Mexican       97\n",
              "American      11\n",
              "Pizzeria       9\n",
              "Cafeteria      9\n",
              "Family         8\n",
              "              ..\n",
              "Indigenous     1\n",
              "Chilean        1\n",
              "Brazilian      1\n",
              "Dim Sum        1\n",
              "Basque         1\n",
              "Name: Rcuisine, Length: 103, dtype: int64"
            ]
          },
          "metadata": {
            "tags": []
          },
          "execution_count": 22
        }
      ]
    },
    {
      "cell_type": "code",
      "metadata": {
        "id": "jOesZZjPhQMO",
        "colab": {
          "base_uri": "https://localhost:8080/",
          "height": 54
        },
        "outputId": "b46a7b05-cb1b-47b9-acf9-cb7067f83c74"
      },
      "source": [
        "#RUN THIS CELL TO GET YOUR SCORE AND DO NOT EDIT\n",
        "import os\n",
        "\n",
        "os.chdir('/content/drive/My Drive/Python For Data Science Project/Week 4_Final Project/data')\n",
        "import Restocusine\n",
        "import pandas as pd\n",
        "import numpy as np\n",
        "\n",
        "#CHANGE NONE TO YOUR OWN LIST VARIABLE NAME\n",
        "print(Restocusine.score_resto_cuis(resto_cuisine.Rcuisine.unique()))\n",
        "print(Restocusine.score_user_cuis(user_cuisine.Rcuisine.unique()))"
      ],
      "execution_count": null,
      "outputs": [
        {
          "output_type": "stream",
          "text": [
            "Your score restaurant cuisine: 100.0%\n",
            "Your score for user cuisine: 100.0%\n"
          ],
          "name": "stdout"
        }
      ]
    },
    {
      "cell_type": "markdown",
      "metadata": {
        "id": "lfne3OA8i-3t"
      },
      "source": [
        "#3. Resto Hours"
      ]
    },
    {
      "cell_type": "code",
      "metadata": {
        "id": "yN4MX5V_W7Z_",
        "colab": {
          "base_uri": "https://localhost:8080/",
          "height": 206
        },
        "outputId": "a3825cfe-7a2d-4e77-f37b-0b6b8f3a25d3"
      },
      "source": [
        "#YOUR CODE HERE\n",
        "\n",
        "import pandas as pd\n",
        "import numpy as np\n",
        "\n",
        "resto_hours = pd.read_csv('/content/drive/My Drive/Python For Data Science Project/Week 4_Final Project/data/restohours.csv')\n",
        "resto_hours.head()"
      ],
      "execution_count": null,
      "outputs": [
        {
          "output_type": "execute_result",
          "data": {
            "text/html": [
              "<div>\n",
              "<style scoped>\n",
              "    .dataframe tbody tr th:only-of-type {\n",
              "        vertical-align: middle;\n",
              "    }\n",
              "\n",
              "    .dataframe tbody tr th {\n",
              "        vertical-align: top;\n",
              "    }\n",
              "\n",
              "    .dataframe thead th {\n",
              "        text-align: right;\n",
              "    }\n",
              "</style>\n",
              "<table border=\"1\" class=\"dataframe\">\n",
              "  <thead>\n",
              "    <tr style=\"text-align: right;\">\n",
              "      <th></th>\n",
              "      <th>placeID</th>\n",
              "      <th>hours</th>\n",
              "      <th>days</th>\n",
              "    </tr>\n",
              "  </thead>\n",
              "  <tbody>\n",
              "    <tr>\n",
              "      <th>0</th>\n",
              "      <td>135111</td>\n",
              "      <td>00:00-23:30;</td>\n",
              "      <td>Mon;Tue;Wed;Thu;Fri;</td>\n",
              "    </tr>\n",
              "    <tr>\n",
              "      <th>1</th>\n",
              "      <td>135111</td>\n",
              "      <td>00:00-23:30;</td>\n",
              "      <td>Sat;</td>\n",
              "    </tr>\n",
              "    <tr>\n",
              "      <th>2</th>\n",
              "      <td>135111</td>\n",
              "      <td>00:00-23:30;</td>\n",
              "      <td>Sun;</td>\n",
              "    </tr>\n",
              "    <tr>\n",
              "      <th>3</th>\n",
              "      <td>135110</td>\n",
              "      <td>08:00-19:00;</td>\n",
              "      <td>Mon;Tue;Wed;Thu;Fri;</td>\n",
              "    </tr>\n",
              "    <tr>\n",
              "      <th>4</th>\n",
              "      <td>135110</td>\n",
              "      <td>00:00-00:00;</td>\n",
              "      <td>Sat;</td>\n",
              "    </tr>\n",
              "  </tbody>\n",
              "</table>\n",
              "</div>"
            ],
            "text/plain": [
              "   placeID         hours                  days\n",
              "0   135111  00:00-23:30;  Mon;Tue;Wed;Thu;Fri;\n",
              "1   135111  00:00-23:30;                  Sat;\n",
              "2   135111  00:00-23:30;                  Sun;\n",
              "3   135110  08:00-19:00;  Mon;Tue;Wed;Thu;Fri;\n",
              "4   135110  00:00-00:00;                  Sat;"
            ]
          },
          "metadata": {
            "tags": []
          },
          "execution_count": 24
        }
      ]
    },
    {
      "cell_type": "code",
      "metadata": {
        "id": "cooyLp7D1X2E",
        "colab": {
          "base_uri": "https://localhost:8080/",
          "height": 455
        },
        "outputId": "5c8fd605-8270-460b-817d-8293514e471a"
      },
      "source": [
        "resto_hours = resto_hours.drop_duplicates()\n",
        "resto_hours = resto_hours.assign(days=resto_hours.days.str.split(';')).explode('days')\n",
        "resto_hours = resto_hours[resto_hours.days!='']\n",
        "resto_hours = resto_hours.groupby(['placeID', 'days'])['hours'].aggregate('first').unstack()\n",
        "day = ['Mon','Tue','Wed','Thu','Fri','Sat','Sun']\n",
        "resto_hours = resto_hours[day]\n",
        "resto_hours = resto_hours.fillna(9999)\n",
        "resto_hours"
      ],
      "execution_count": null,
      "outputs": [
        {
          "output_type": "execute_result",
          "data": {
            "text/html": [
              "<div>\n",
              "<style scoped>\n",
              "    .dataframe tbody tr th:only-of-type {\n",
              "        vertical-align: middle;\n",
              "    }\n",
              "\n",
              "    .dataframe tbody tr th {\n",
              "        vertical-align: top;\n",
              "    }\n",
              "\n",
              "    .dataframe thead th {\n",
              "        text-align: right;\n",
              "    }\n",
              "</style>\n",
              "<table border=\"1\" class=\"dataframe\">\n",
              "  <thead>\n",
              "    <tr style=\"text-align: right;\">\n",
              "      <th>days</th>\n",
              "      <th>Mon</th>\n",
              "      <th>Tue</th>\n",
              "      <th>Wed</th>\n",
              "      <th>Thu</th>\n",
              "      <th>Fri</th>\n",
              "      <th>Sat</th>\n",
              "      <th>Sun</th>\n",
              "    </tr>\n",
              "    <tr>\n",
              "      <th>placeID</th>\n",
              "      <th></th>\n",
              "      <th></th>\n",
              "      <th></th>\n",
              "      <th></th>\n",
              "      <th></th>\n",
              "      <th></th>\n",
              "      <th></th>\n",
              "    </tr>\n",
              "  </thead>\n",
              "  <tbody>\n",
              "    <tr>\n",
              "      <th>132012</th>\n",
              "      <td>12:00-22:00;</td>\n",
              "      <td>12:00-22:00;</td>\n",
              "      <td>12:00-22:00;</td>\n",
              "      <td>12:00-22:00;</td>\n",
              "      <td>12:00-22:00;</td>\n",
              "      <td>12:00-22:00;</td>\n",
              "      <td>12:00-22:00;</td>\n",
              "    </tr>\n",
              "    <tr>\n",
              "      <th>132023</th>\n",
              "      <td>11:00-00:00;</td>\n",
              "      <td>11:00-00:00;</td>\n",
              "      <td>11:00-00:00;</td>\n",
              "      <td>11:00-00:00;</td>\n",
              "      <td>11:00-00:00;</td>\n",
              "      <td>11:00-00:00;</td>\n",
              "      <td>11:00-00:00;</td>\n",
              "    </tr>\n",
              "    <tr>\n",
              "      <th>132024</th>\n",
              "      <td>11:00-21:00;</td>\n",
              "      <td>11:00-21:00;</td>\n",
              "      <td>11:00-21:00;</td>\n",
              "      <td>11:00-21:00;</td>\n",
              "      <td>11:00-21:00;</td>\n",
              "      <td>11:00-21:00;</td>\n",
              "      <td>11:00-21:00;</td>\n",
              "    </tr>\n",
              "    <tr>\n",
              "      <th>132026</th>\n",
              "      <td>12:00-14:30;</td>\n",
              "      <td>12:00-14:30;</td>\n",
              "      <td>12:00-14:30;</td>\n",
              "      <td>12:00-14:30;</td>\n",
              "      <td>12:00-14:30;</td>\n",
              "      <td>9999</td>\n",
              "      <td>9999</td>\n",
              "    </tr>\n",
              "    <tr>\n",
              "      <th>132030</th>\n",
              "      <td>12:00-15:00;15:00-21:00;</td>\n",
              "      <td>12:00-15:00;15:00-21:00;</td>\n",
              "      <td>12:00-15:00;15:00-21:00;</td>\n",
              "      <td>12:00-15:00;15:00-21:00;</td>\n",
              "      <td>12:00-15:00;15:00-21:00;</td>\n",
              "      <td>12:00-15:00;15:00-21:00;</td>\n",
              "      <td>12:00-15:00;15:00-21:00;</td>\n",
              "    </tr>\n",
              "    <tr>\n",
              "      <th>...</th>\n",
              "      <td>...</td>\n",
              "      <td>...</td>\n",
              "      <td>...</td>\n",
              "      <td>...</td>\n",
              "      <td>...</td>\n",
              "      <td>...</td>\n",
              "      <td>...</td>\n",
              "    </tr>\n",
              "    <tr>\n",
              "      <th>135107</th>\n",
              "      <td>07:00-23:30;</td>\n",
              "      <td>07:00-23:30;</td>\n",
              "      <td>07:00-23:30;</td>\n",
              "      <td>07:00-23:30;</td>\n",
              "      <td>07:00-23:30;</td>\n",
              "      <td>07:00-23:30;</td>\n",
              "      <td>07:00-23:30;</td>\n",
              "    </tr>\n",
              "    <tr>\n",
              "      <th>135108</th>\n",
              "      <td>00:00-23:30;</td>\n",
              "      <td>00:00-23:30;</td>\n",
              "      <td>00:00-23:30;</td>\n",
              "      <td>00:00-23:30;</td>\n",
              "      <td>00:00-23:30;</td>\n",
              "      <td>00:00-23:30;</td>\n",
              "      <td>00:00-23:30;</td>\n",
              "    </tr>\n",
              "    <tr>\n",
              "      <th>135109</th>\n",
              "      <td>08:00-21:00;</td>\n",
              "      <td>08:00-21:00;</td>\n",
              "      <td>08:00-21:00;</td>\n",
              "      <td>08:00-21:00;</td>\n",
              "      <td>08:00-21:00;</td>\n",
              "      <td>08:00-21:00;</td>\n",
              "      <td>08:00-21:00;</td>\n",
              "    </tr>\n",
              "    <tr>\n",
              "      <th>135110</th>\n",
              "      <td>08:00-19:00;</td>\n",
              "      <td>08:00-19:00;</td>\n",
              "      <td>08:00-19:00;</td>\n",
              "      <td>08:00-19:00;</td>\n",
              "      <td>08:00-19:00;</td>\n",
              "      <td>00:00-00:00;</td>\n",
              "      <td>00:00-00:00;</td>\n",
              "    </tr>\n",
              "    <tr>\n",
              "      <th>135111</th>\n",
              "      <td>00:00-23:30;</td>\n",
              "      <td>00:00-23:30;</td>\n",
              "      <td>00:00-23:30;</td>\n",
              "      <td>00:00-23:30;</td>\n",
              "      <td>00:00-23:30;</td>\n",
              "      <td>00:00-23:30;</td>\n",
              "      <td>00:00-23:30;</td>\n",
              "    </tr>\n",
              "  </tbody>\n",
              "</table>\n",
              "<p>694 rows × 7 columns</p>\n",
              "</div>"
            ],
            "text/plain": [
              "days                          Mon  ...                       Sun\n",
              "placeID                            ...                          \n",
              "132012               12:00-22:00;  ...              12:00-22:00;\n",
              "132023               11:00-00:00;  ...              11:00-00:00;\n",
              "132024               11:00-21:00;  ...              11:00-21:00;\n",
              "132026               12:00-14:30;  ...                      9999\n",
              "132030   12:00-15:00;15:00-21:00;  ...  12:00-15:00;15:00-21:00;\n",
              "...                           ...  ...                       ...\n",
              "135107               07:00-23:30;  ...              07:00-23:30;\n",
              "135108               00:00-23:30;  ...              00:00-23:30;\n",
              "135109               08:00-21:00;  ...              08:00-21:00;\n",
              "135110               08:00-19:00;  ...              00:00-00:00;\n",
              "135111               00:00-23:30;  ...              00:00-23:30;\n",
              "\n",
              "[694 rows x 7 columns]"
            ]
          },
          "metadata": {
            "tags": []
          },
          "execution_count": 25
        }
      ]
    },
    {
      "cell_type": "code",
      "metadata": {
        "id": "pL7ihclE1Y0H",
        "colab": {
          "base_uri": "https://localhost:8080/",
          "height": 54
        },
        "outputId": "f4aa3f17-7f18-4d77-856a-a045154a6a22"
      },
      "source": [
        "#RUN THIS CELL TO GET YOUR SCORE AND DO NOT EDIT\n",
        "import os\n",
        "\n",
        "os.chdir('/content/drive/My Drive/Python For Data Science Project/Week 4_Final Project/data')\n",
        "import Restohours\n",
        "import pandas as pd\n",
        "import numpy as np\n",
        "\n",
        "print(Restohours.score_resto_hours(resto_hours))"
      ],
      "execution_count": null,
      "outputs": [
        {
          "output_type": "stream",
          "text": [
            "4858\n",
            "Your score for restohours is: 100.0%\n"
          ],
          "name": "stdout"
        }
      ]
    },
    {
      "cell_type": "markdown",
      "metadata": {
        "id": "hjeiEgb2teKE"
      },
      "source": [
        "#4. Geoplaces"
      ]
    },
    {
      "cell_type": "code",
      "metadata": {
        "id": "24jESIOd6iDv",
        "colab": {
          "base_uri": "https://localhost:8080/",
          "height": 400
        },
        "outputId": "7faf3760-956b-4316-be09-7974bde67a86"
      },
      "source": [
        "#YOUR CODE HERE\n",
        "\n",
        "import pandas as pd\n",
        "import numpy as np\n",
        "\n",
        "geo_places = pd.read_csv('/content/drive/My Drive/Python For Data Science Project/Week 4_Final Project/data/geoplaces.csv')\n",
        "geo_places.head()"
      ],
      "execution_count": null,
      "outputs": [
        {
          "output_type": "execute_result",
          "data": {
            "text/html": [
              "<div>\n",
              "<style scoped>\n",
              "    .dataframe tbody tr th:only-of-type {\n",
              "        vertical-align: middle;\n",
              "    }\n",
              "\n",
              "    .dataframe tbody tr th {\n",
              "        vertical-align: top;\n",
              "    }\n",
              "\n",
              "    .dataframe thead th {\n",
              "        text-align: right;\n",
              "    }\n",
              "</style>\n",
              "<table border=\"1\" class=\"dataframe\">\n",
              "  <thead>\n",
              "    <tr style=\"text-align: right;\">\n",
              "      <th></th>\n",
              "      <th>placeID</th>\n",
              "      <th>latitude</th>\n",
              "      <th>longitude</th>\n",
              "      <th>the_geom_meter</th>\n",
              "      <th>name</th>\n",
              "      <th>address</th>\n",
              "      <th>city</th>\n",
              "      <th>state</th>\n",
              "      <th>country</th>\n",
              "      <th>fax</th>\n",
              "      <th>zip</th>\n",
              "      <th>alcohol</th>\n",
              "      <th>smoking_area</th>\n",
              "      <th>dress_code</th>\n",
              "      <th>accessibility</th>\n",
              "      <th>price</th>\n",
              "      <th>url</th>\n",
              "      <th>Rambience</th>\n",
              "      <th>franchise</th>\n",
              "      <th>area</th>\n",
              "      <th>other_services</th>\n",
              "    </tr>\n",
              "  </thead>\n",
              "  <tbody>\n",
              "    <tr>\n",
              "      <th>0</th>\n",
              "      <td>134999</td>\n",
              "      <td>18.915421</td>\n",
              "      <td>-99.184871</td>\n",
              "      <td>0101000020957F000088568DE356715AC138C0A525FC46...</td>\n",
              "      <td>Kiku Cuernavaca</td>\n",
              "      <td>Revolucion</td>\n",
              "      <td>Cuernavaca</td>\n",
              "      <td>Morelos</td>\n",
              "      <td>Mexico</td>\n",
              "      <td>?</td>\n",
              "      <td>?</td>\n",
              "      <td>No_Alcohol_Served</td>\n",
              "      <td>none</td>\n",
              "      <td>informal</td>\n",
              "      <td>no_accessibility</td>\n",
              "      <td>medium</td>\n",
              "      <td>kikucuernavaca.com.mx</td>\n",
              "      <td>familiar</td>\n",
              "      <td>f</td>\n",
              "      <td>closed</td>\n",
              "      <td>none</td>\n",
              "    </tr>\n",
              "    <tr>\n",
              "      <th>1</th>\n",
              "      <td>132825</td>\n",
              "      <td>22.147392</td>\n",
              "      <td>-100.983092</td>\n",
              "      <td>0101000020957F00001AD016568C4858C1243261274BA5...</td>\n",
              "      <td>puesto de tacos</td>\n",
              "      <td>esquina santos degollado y leon guzman</td>\n",
              "      <td>s.l.p.</td>\n",
              "      <td>s.l.p.</td>\n",
              "      <td>mexico</td>\n",
              "      <td>?</td>\n",
              "      <td>78280</td>\n",
              "      <td>No_Alcohol_Served</td>\n",
              "      <td>none</td>\n",
              "      <td>informal</td>\n",
              "      <td>completely</td>\n",
              "      <td>low</td>\n",
              "      <td>?</td>\n",
              "      <td>familiar</td>\n",
              "      <td>f</td>\n",
              "      <td>open</td>\n",
              "      <td>none</td>\n",
              "    </tr>\n",
              "    <tr>\n",
              "      <th>2</th>\n",
              "      <td>135106</td>\n",
              "      <td>22.149709</td>\n",
              "      <td>-100.976093</td>\n",
              "      <td>0101000020957F0000649D6F21634858C119AE9BF528A3...</td>\n",
              "      <td>El Rinc�n de San Francisco</td>\n",
              "      <td>Universidad 169</td>\n",
              "      <td>San Luis Potosi</td>\n",
              "      <td>San Luis Potosi</td>\n",
              "      <td>Mexico</td>\n",
              "      <td>?</td>\n",
              "      <td>78000</td>\n",
              "      <td>Wine-Beer</td>\n",
              "      <td>only at bar</td>\n",
              "      <td>informal</td>\n",
              "      <td>partially</td>\n",
              "      <td>medium</td>\n",
              "      <td>?</td>\n",
              "      <td>familiar</td>\n",
              "      <td>f</td>\n",
              "      <td>open</td>\n",
              "      <td>none</td>\n",
              "    </tr>\n",
              "    <tr>\n",
              "      <th>3</th>\n",
              "      <td>132667</td>\n",
              "      <td>23.752697</td>\n",
              "      <td>-99.163359</td>\n",
              "      <td>0101000020957F00005D67BCDDED8157C1222A2DC8D84D...</td>\n",
              "      <td>little pizza Emilio Portes Gil</td>\n",
              "      <td>calle emilio portes gil</td>\n",
              "      <td>victoria</td>\n",
              "      <td>tamaulipas</td>\n",
              "      <td>?</td>\n",
              "      <td>?</td>\n",
              "      <td>?</td>\n",
              "      <td>No_Alcohol_Served</td>\n",
              "      <td>none</td>\n",
              "      <td>informal</td>\n",
              "      <td>completely</td>\n",
              "      <td>low</td>\n",
              "      <td>?</td>\n",
              "      <td>familiar</td>\n",
              "      <td>t</td>\n",
              "      <td>closed</td>\n",
              "      <td>none</td>\n",
              "    </tr>\n",
              "    <tr>\n",
              "      <th>4</th>\n",
              "      <td>132613</td>\n",
              "      <td>23.752903</td>\n",
              "      <td>-99.165076</td>\n",
              "      <td>0101000020957F00008EBA2D06DC8157C194E03B7B504E...</td>\n",
              "      <td>carnitas_mata</td>\n",
              "      <td>lic. Emilio portes gil</td>\n",
              "      <td>victoria</td>\n",
              "      <td>Tamaulipas</td>\n",
              "      <td>Mexico</td>\n",
              "      <td>?</td>\n",
              "      <td>?</td>\n",
              "      <td>No_Alcohol_Served</td>\n",
              "      <td>permitted</td>\n",
              "      <td>informal</td>\n",
              "      <td>completely</td>\n",
              "      <td>medium</td>\n",
              "      <td>?</td>\n",
              "      <td>familiar</td>\n",
              "      <td>t</td>\n",
              "      <td>closed</td>\n",
              "      <td>none</td>\n",
              "    </tr>\n",
              "  </tbody>\n",
              "</table>\n",
              "</div>"
            ],
            "text/plain": [
              "   placeID   latitude   longitude  ... franchise    area other_services\n",
              "0   134999  18.915421  -99.184871  ...         f  closed           none\n",
              "1   132825  22.147392 -100.983092  ...         f    open           none\n",
              "2   135106  22.149709 -100.976093  ...         f    open           none\n",
              "3   132667  23.752697  -99.163359  ...         t  closed           none\n",
              "4   132613  23.752903  -99.165076  ...         t  closed           none\n",
              "\n",
              "[5 rows x 21 columns]"
            ]
          },
          "metadata": {
            "tags": []
          },
          "execution_count": 27
        }
      ]
    },
    {
      "cell_type": "code",
      "metadata": {
        "id": "_ICVByRsWyVh"
      },
      "source": [
        "geo_places['city'] = geo_places.city.replace(['s.l.p.','san luis potosi','slp','san luis potosi ','s.l.p','san luis potos'],'San Luis Potosi').replace('cuernavaca','Cuernavaca').replace(['Cd Victoria','Cd. Victoria','victoria ','victoria'],'Ciudad Victoria').replace('?','').str.title()\n",
        "geo_places['state'] = geo_places.state.replace(['s.l.p.','san luis potosi','SLP','slp','S.L.P.','san luis potos'],'San Luis Potosi').replace(['morelos'],'Morelos').replace('tamaulipas','Tamaulipas').replace(['mexico'],'Mexico').replace(['Cd Victoria','Cd. Victoria','victoria ','victoria'],'Ciudad Victoria').replace('?','').str.title()\n",
        "geo_places['country'] = geo_places.country.replace('?','').str.title()"
      ],
      "execution_count": null,
      "outputs": []
    },
    {
      "cell_type": "code",
      "metadata": {
        "id": "a35P04wyczGA",
        "colab": {
          "base_uri": "https://localhost:8080/",
          "height": 424
        },
        "outputId": "8544da02-7a69-46d0-e933-d5cd46321942"
      },
      "source": [
        "geo_places[['placeID', 'name']]"
      ],
      "execution_count": null,
      "outputs": [
        {
          "output_type": "execute_result",
          "data": {
            "text/html": [
              "<div>\n",
              "<style scoped>\n",
              "    .dataframe tbody tr th:only-of-type {\n",
              "        vertical-align: middle;\n",
              "    }\n",
              "\n",
              "    .dataframe tbody tr th {\n",
              "        vertical-align: top;\n",
              "    }\n",
              "\n",
              "    .dataframe thead th {\n",
              "        text-align: right;\n",
              "    }\n",
              "</style>\n",
              "<table border=\"1\" class=\"dataframe\">\n",
              "  <thead>\n",
              "    <tr style=\"text-align: right;\">\n",
              "      <th></th>\n",
              "      <th>placeID</th>\n",
              "      <th>name</th>\n",
              "    </tr>\n",
              "  </thead>\n",
              "  <tbody>\n",
              "    <tr>\n",
              "      <th>0</th>\n",
              "      <td>134999</td>\n",
              "      <td>Kiku Cuernavaca</td>\n",
              "    </tr>\n",
              "    <tr>\n",
              "      <th>1</th>\n",
              "      <td>132825</td>\n",
              "      <td>puesto de tacos</td>\n",
              "    </tr>\n",
              "    <tr>\n",
              "      <th>2</th>\n",
              "      <td>135106</td>\n",
              "      <td>El Rinc�n de San Francisco</td>\n",
              "    </tr>\n",
              "    <tr>\n",
              "      <th>3</th>\n",
              "      <td>132667</td>\n",
              "      <td>little pizza Emilio Portes Gil</td>\n",
              "    </tr>\n",
              "    <tr>\n",
              "      <th>4</th>\n",
              "      <td>132613</td>\n",
              "      <td>carnitas_mata</td>\n",
              "    </tr>\n",
              "    <tr>\n",
              "      <th>...</th>\n",
              "      <td>...</td>\n",
              "      <td>...</td>\n",
              "    </tr>\n",
              "    <tr>\n",
              "      <th>125</th>\n",
              "      <td>132866</td>\n",
              "      <td>Chaires</td>\n",
              "    </tr>\n",
              "    <tr>\n",
              "      <th>126</th>\n",
              "      <td>135072</td>\n",
              "      <td>Sushi Itto</td>\n",
              "    </tr>\n",
              "    <tr>\n",
              "      <th>127</th>\n",
              "      <td>135109</td>\n",
              "      <td>Paniroles</td>\n",
              "    </tr>\n",
              "    <tr>\n",
              "      <th>128</th>\n",
              "      <td>135019</td>\n",
              "      <td>Restaurant Bar Coty y Pablo</td>\n",
              "    </tr>\n",
              "    <tr>\n",
              "      <th>129</th>\n",
              "      <td>132877</td>\n",
              "      <td>sirloin stockade</td>\n",
              "    </tr>\n",
              "  </tbody>\n",
              "</table>\n",
              "<p>130 rows × 2 columns</p>\n",
              "</div>"
            ],
            "text/plain": [
              "     placeID                            name\n",
              "0     134999                 Kiku Cuernavaca\n",
              "1     132825                 puesto de tacos\n",
              "2     135106      El Rinc�n de San Francisco\n",
              "3     132667  little pizza Emilio Portes Gil\n",
              "4     132613                   carnitas_mata\n",
              "..       ...                             ...\n",
              "125   132866                         Chaires\n",
              "126   135072                      Sushi Itto\n",
              "127   135109                       Paniroles\n",
              "128   135019     Restaurant Bar Coty y Pablo\n",
              "129   132877                sirloin stockade\n",
              "\n",
              "[130 rows x 2 columns]"
            ]
          },
          "metadata": {
            "tags": []
          },
          "execution_count": 29
        }
      ]
    },
    {
      "cell_type": "code",
      "metadata": {
        "id": "yVoGQgj6Z1AA",
        "colab": {
          "base_uri": "https://localhost:8080/",
          "height": 146
        },
        "outputId": "89c29399-b751-41e5-d45e-6ad211d78952"
      },
      "source": [
        "geo_places.city.value_counts()"
      ],
      "execution_count": null,
      "outputs": [
        {
          "output_type": "execute_result",
          "data": {
            "text/plain": [
              "San Luis Potosi    74\n",
              "                   18\n",
              "Ciudad Victoria    16\n",
              "Cuernavaca         16\n",
              "Jiutepec            4\n",
              "Soledad             2\n",
              "Name: city, dtype: int64"
            ]
          },
          "metadata": {
            "tags": []
          },
          "execution_count": 30
        }
      ]
    },
    {
      "cell_type": "code",
      "metadata": {
        "id": "xmWoa9gsaO1h",
        "colab": {
          "base_uri": "https://localhost:8080/",
          "height": 128
        },
        "outputId": "a4adffc4-3cff-4a56-b80b-1efdb92f4ef7"
      },
      "source": [
        "geo_places.state.value_counts()"
      ],
      "execution_count": null,
      "outputs": [
        {
          "output_type": "execute_result",
          "data": {
            "text/plain": [
              "San Luis Potosi    74\n",
              "Morelos            20\n",
              "                   18\n",
              "Tamaulipas         16\n",
              "Mexico              2\n",
              "Name: state, dtype: int64"
            ]
          },
          "metadata": {
            "tags": []
          },
          "execution_count": 31
        }
      ]
    },
    {
      "cell_type": "code",
      "metadata": {
        "id": "Endsp7LYaUo_",
        "colab": {
          "base_uri": "https://localhost:8080/",
          "height": 72
        },
        "outputId": "a5efdca9-8d78-49a9-9eb2-a65079a0ca8c"
      },
      "source": [
        "geo_places.country.value_counts()"
      ],
      "execution_count": null,
      "outputs": [
        {
          "output_type": "execute_result",
          "data": {
            "text/plain": [
              "Mexico    102\n",
              "           28\n",
              "Name: country, dtype: int64"
            ]
          },
          "metadata": {
            "tags": []
          },
          "execution_count": 32
        }
      ]
    },
    {
      "cell_type": "code",
      "metadata": {
        "id": "oF26tpo3bhaQ",
        "colab": {
          "base_uri": "https://localhost:8080/",
          "height": 424
        },
        "outputId": "f87c5ca2-2411-45e5-b409-57b4cc0d7d25"
      },
      "source": [
        "geo_places_final = geo_places[['placeID','city','state','country']]\n",
        "geo_places_final"
      ],
      "execution_count": null,
      "outputs": [
        {
          "output_type": "execute_result",
          "data": {
            "text/html": [
              "<div>\n",
              "<style scoped>\n",
              "    .dataframe tbody tr th:only-of-type {\n",
              "        vertical-align: middle;\n",
              "    }\n",
              "\n",
              "    .dataframe tbody tr th {\n",
              "        vertical-align: top;\n",
              "    }\n",
              "\n",
              "    .dataframe thead th {\n",
              "        text-align: right;\n",
              "    }\n",
              "</style>\n",
              "<table border=\"1\" class=\"dataframe\">\n",
              "  <thead>\n",
              "    <tr style=\"text-align: right;\">\n",
              "      <th></th>\n",
              "      <th>placeID</th>\n",
              "      <th>city</th>\n",
              "      <th>state</th>\n",
              "      <th>country</th>\n",
              "    </tr>\n",
              "  </thead>\n",
              "  <tbody>\n",
              "    <tr>\n",
              "      <th>0</th>\n",
              "      <td>134999</td>\n",
              "      <td>Cuernavaca</td>\n",
              "      <td>Morelos</td>\n",
              "      <td>Mexico</td>\n",
              "    </tr>\n",
              "    <tr>\n",
              "      <th>1</th>\n",
              "      <td>132825</td>\n",
              "      <td>San Luis Potosi</td>\n",
              "      <td>San Luis Potosi</td>\n",
              "      <td>Mexico</td>\n",
              "    </tr>\n",
              "    <tr>\n",
              "      <th>2</th>\n",
              "      <td>135106</td>\n",
              "      <td>San Luis Potosi</td>\n",
              "      <td>San Luis Potosi</td>\n",
              "      <td>Mexico</td>\n",
              "    </tr>\n",
              "    <tr>\n",
              "      <th>3</th>\n",
              "      <td>132667</td>\n",
              "      <td>Ciudad Victoria</td>\n",
              "      <td>Tamaulipas</td>\n",
              "      <td></td>\n",
              "    </tr>\n",
              "    <tr>\n",
              "      <th>4</th>\n",
              "      <td>132613</td>\n",
              "      <td>Ciudad Victoria</td>\n",
              "      <td>Tamaulipas</td>\n",
              "      <td>Mexico</td>\n",
              "    </tr>\n",
              "    <tr>\n",
              "      <th>...</th>\n",
              "      <td>...</td>\n",
              "      <td>...</td>\n",
              "      <td>...</td>\n",
              "      <td>...</td>\n",
              "    </tr>\n",
              "    <tr>\n",
              "      <th>125</th>\n",
              "      <td>132866</td>\n",
              "      <td>San Luis Potosi</td>\n",
              "      <td>San Luis Potosi</td>\n",
              "      <td>Mexico</td>\n",
              "    </tr>\n",
              "    <tr>\n",
              "      <th>126</th>\n",
              "      <td>135072</td>\n",
              "      <td>San Luis Potosi</td>\n",
              "      <td>San Luis Potosi</td>\n",
              "      <td>Mexico</td>\n",
              "    </tr>\n",
              "    <tr>\n",
              "      <th>127</th>\n",
              "      <td>135109</td>\n",
              "      <td></td>\n",
              "      <td></td>\n",
              "      <td></td>\n",
              "    </tr>\n",
              "    <tr>\n",
              "      <th>128</th>\n",
              "      <td>135019</td>\n",
              "      <td>Jiutepec</td>\n",
              "      <td>Morelos</td>\n",
              "      <td>Mexico</td>\n",
              "    </tr>\n",
              "    <tr>\n",
              "      <th>129</th>\n",
              "      <td>132877</td>\n",
              "      <td></td>\n",
              "      <td></td>\n",
              "      <td></td>\n",
              "    </tr>\n",
              "  </tbody>\n",
              "</table>\n",
              "<p>130 rows × 4 columns</p>\n",
              "</div>"
            ],
            "text/plain": [
              "     placeID             city            state country\n",
              "0     134999       Cuernavaca          Morelos  Mexico\n",
              "1     132825  San Luis Potosi  San Luis Potosi  Mexico\n",
              "2     135106  San Luis Potosi  San Luis Potosi  Mexico\n",
              "3     132667  Ciudad Victoria       Tamaulipas        \n",
              "4     132613  Ciudad Victoria       Tamaulipas  Mexico\n",
              "..       ...              ...              ...     ...\n",
              "125   132866  San Luis Potosi  San Luis Potosi  Mexico\n",
              "126   135072  San Luis Potosi  San Luis Potosi  Mexico\n",
              "127   135109                                          \n",
              "128   135019         Jiutepec          Morelos  Mexico\n",
              "129   132877                                          \n",
              "\n",
              "[130 rows x 4 columns]"
            ]
          },
          "metadata": {
            "tags": []
          },
          "execution_count": 36
        }
      ]
    },
    {
      "cell_type": "code",
      "metadata": {
        "id": "LyyPAXCgmBHG",
        "colab": {
          "base_uri": "https://localhost:8080/",
          "height": 35
        },
        "outputId": "892aac7a-9918-4428-cac5-1b93cf3a5894"
      },
      "source": [
        "#RUN THIS CELL TO GET YOUR SCORE AND DO NOT EDIT\n",
        "import os\n",
        "\n",
        "os.chdir('/content/drive/My Drive/Python For Data Science Project/Week 4_Final Project/data')\n",
        "import geoplaces\n",
        "import pandas as pd\n",
        "import numpy as np\n",
        "\n",
        "geoplaces.score_geoplaces(geo_places_final)"
      ],
      "execution_count": null,
      "outputs": [
        {
          "output_type": "stream",
          "text": [
            "Your score for geoplaces is: 100.0%\n"
          ],
          "name": "stdout"
        }
      ]
    },
    {
      "cell_type": "markdown",
      "metadata": {
        "id": "aOtBnSIdlwZ9"
      },
      "source": [
        "# **Data Analysis**"
      ]
    },
    {
      "cell_type": "markdown",
      "metadata": {
        "id": "v7wnRlVYlJOu"
      },
      "source": [
        "##1. Which student rate the most?\n",
        "\n",
        "kalimatnya ambigu :(\n",
        "\n"
      ]
    },
    {
      "cell_type": "code",
      "metadata": {
        "id": "7Wr0_NtilePo"
      },
      "source": [
        "#YOUR CODE HERE\n",
        "\n",
        "import pandas as pd\n",
        "import numpy as np\n",
        "\n",
        "dfrating = pd.read_csv('/content/drive/My Drive/Python For Data Science Project/Week 4_Final Project/data/rating_final.csv')\n",
        "userprofile = pd.read_csv('/content/drive/My Drive/Python For Data Science Project/Week 4_Final Project/data/userprofile.csv')"
      ],
      "execution_count": null,
      "outputs": []
    },
    {
      "cell_type": "code",
      "metadata": {
        "id": "p9VvvDfYqw1I",
        "colab": {
          "base_uri": "https://localhost:8080/",
          "height": 444
        },
        "outputId": "3abd64fa-f865-43cd-fb1e-1f86c2f4caf9"
      },
      "source": [
        "gabung = dfrating.join(userprofile.set_index('userID'), on='userID', how='outer')\n",
        "gabung"
      ],
      "execution_count": null,
      "outputs": [
        {
          "output_type": "execute_result",
          "data": {
            "text/html": [
              "<div>\n",
              "<style scoped>\n",
              "    .dataframe tbody tr th:only-of-type {\n",
              "        vertical-align: middle;\n",
              "    }\n",
              "\n",
              "    .dataframe tbody tr th {\n",
              "        vertical-align: top;\n",
              "    }\n",
              "\n",
              "    .dataframe thead th {\n",
              "        text-align: right;\n",
              "    }\n",
              "</style>\n",
              "<table border=\"1\" class=\"dataframe\">\n",
              "  <thead>\n",
              "    <tr style=\"text-align: right;\">\n",
              "      <th></th>\n",
              "      <th>userID</th>\n",
              "      <th>placeID</th>\n",
              "      <th>rating</th>\n",
              "      <th>food_rating</th>\n",
              "      <th>service_rating</th>\n",
              "      <th>latitude</th>\n",
              "      <th>longitude</th>\n",
              "      <th>smoker</th>\n",
              "      <th>drink_level</th>\n",
              "      <th>dress_preference</th>\n",
              "      <th>ambience</th>\n",
              "      <th>transport</th>\n",
              "      <th>marital_status</th>\n",
              "      <th>hijos</th>\n",
              "      <th>birth_year</th>\n",
              "      <th>interest</th>\n",
              "      <th>personality</th>\n",
              "      <th>religion</th>\n",
              "      <th>activity</th>\n",
              "      <th>color</th>\n",
              "      <th>weight</th>\n",
              "      <th>budget</th>\n",
              "      <th>height</th>\n",
              "    </tr>\n",
              "  </thead>\n",
              "  <tbody>\n",
              "    <tr>\n",
              "      <th>0</th>\n",
              "      <td>U1077</td>\n",
              "      <td>135085</td>\n",
              "      <td>2</td>\n",
              "      <td>2</td>\n",
              "      <td>2</td>\n",
              "      <td>22.156469</td>\n",
              "      <td>-100.985540</td>\n",
              "      <td>false</td>\n",
              "      <td>social drinker</td>\n",
              "      <td>elegant</td>\n",
              "      <td>family</td>\n",
              "      <td>public</td>\n",
              "      <td>married</td>\n",
              "      <td>kids</td>\n",
              "      <td>1987</td>\n",
              "      <td>technology</td>\n",
              "      <td>thrifty-protector</td>\n",
              "      <td>Catholic</td>\n",
              "      <td>student</td>\n",
              "      <td>blue</td>\n",
              "      <td>65</td>\n",
              "      <td>medium</td>\n",
              "      <td>1.71</td>\n",
              "    </tr>\n",
              "    <tr>\n",
              "      <th>1</th>\n",
              "      <td>U1077</td>\n",
              "      <td>135038</td>\n",
              "      <td>2</td>\n",
              "      <td>2</td>\n",
              "      <td>1</td>\n",
              "      <td>22.156469</td>\n",
              "      <td>-100.985540</td>\n",
              "      <td>false</td>\n",
              "      <td>social drinker</td>\n",
              "      <td>elegant</td>\n",
              "      <td>family</td>\n",
              "      <td>public</td>\n",
              "      <td>married</td>\n",
              "      <td>kids</td>\n",
              "      <td>1987</td>\n",
              "      <td>technology</td>\n",
              "      <td>thrifty-protector</td>\n",
              "      <td>Catholic</td>\n",
              "      <td>student</td>\n",
              "      <td>blue</td>\n",
              "      <td>65</td>\n",
              "      <td>medium</td>\n",
              "      <td>1.71</td>\n",
              "    </tr>\n",
              "    <tr>\n",
              "      <th>2</th>\n",
              "      <td>U1077</td>\n",
              "      <td>132825</td>\n",
              "      <td>2</td>\n",
              "      <td>2</td>\n",
              "      <td>2</td>\n",
              "      <td>22.156469</td>\n",
              "      <td>-100.985540</td>\n",
              "      <td>false</td>\n",
              "      <td>social drinker</td>\n",
              "      <td>elegant</td>\n",
              "      <td>family</td>\n",
              "      <td>public</td>\n",
              "      <td>married</td>\n",
              "      <td>kids</td>\n",
              "      <td>1987</td>\n",
              "      <td>technology</td>\n",
              "      <td>thrifty-protector</td>\n",
              "      <td>Catholic</td>\n",
              "      <td>student</td>\n",
              "      <td>blue</td>\n",
              "      <td>65</td>\n",
              "      <td>medium</td>\n",
              "      <td>1.71</td>\n",
              "    </tr>\n",
              "    <tr>\n",
              "      <th>3</th>\n",
              "      <td>U1077</td>\n",
              "      <td>135060</td>\n",
              "      <td>1</td>\n",
              "      <td>2</td>\n",
              "      <td>2</td>\n",
              "      <td>22.156469</td>\n",
              "      <td>-100.985540</td>\n",
              "      <td>false</td>\n",
              "      <td>social drinker</td>\n",
              "      <td>elegant</td>\n",
              "      <td>family</td>\n",
              "      <td>public</td>\n",
              "      <td>married</td>\n",
              "      <td>kids</td>\n",
              "      <td>1987</td>\n",
              "      <td>technology</td>\n",
              "      <td>thrifty-protector</td>\n",
              "      <td>Catholic</td>\n",
              "      <td>student</td>\n",
              "      <td>blue</td>\n",
              "      <td>65</td>\n",
              "      <td>medium</td>\n",
              "      <td>1.71</td>\n",
              "    </tr>\n",
              "    <tr>\n",
              "      <th>433</th>\n",
              "      <td>U1077</td>\n",
              "      <td>135027</td>\n",
              "      <td>0</td>\n",
              "      <td>1</td>\n",
              "      <td>1</td>\n",
              "      <td>22.156469</td>\n",
              "      <td>-100.985540</td>\n",
              "      <td>false</td>\n",
              "      <td>social drinker</td>\n",
              "      <td>elegant</td>\n",
              "      <td>family</td>\n",
              "      <td>public</td>\n",
              "      <td>married</td>\n",
              "      <td>kids</td>\n",
              "      <td>1987</td>\n",
              "      <td>technology</td>\n",
              "      <td>thrifty-protector</td>\n",
              "      <td>Catholic</td>\n",
              "      <td>student</td>\n",
              "      <td>blue</td>\n",
              "      <td>65</td>\n",
              "      <td>medium</td>\n",
              "      <td>1.71</td>\n",
              "    </tr>\n",
              "    <tr>\n",
              "      <th>...</th>\n",
              "      <td>...</td>\n",
              "      <td>...</td>\n",
              "      <td>...</td>\n",
              "      <td>...</td>\n",
              "      <td>...</td>\n",
              "      <td>...</td>\n",
              "      <td>...</td>\n",
              "      <td>...</td>\n",
              "      <td>...</td>\n",
              "      <td>...</td>\n",
              "      <td>...</td>\n",
              "      <td>...</td>\n",
              "      <td>...</td>\n",
              "      <td>...</td>\n",
              "      <td>...</td>\n",
              "      <td>...</td>\n",
              "      <td>...</td>\n",
              "      <td>...</td>\n",
              "      <td>...</td>\n",
              "      <td>...</td>\n",
              "      <td>...</td>\n",
              "      <td>...</td>\n",
              "      <td>...</td>\n",
              "    </tr>\n",
              "    <tr>\n",
              "      <th>1155</th>\n",
              "      <td>U1043</td>\n",
              "      <td>132732</td>\n",
              "      <td>1</td>\n",
              "      <td>1</td>\n",
              "      <td>1</td>\n",
              "      <td>23.771030</td>\n",
              "      <td>-99.167082</td>\n",
              "      <td>false</td>\n",
              "      <td>abstemious</td>\n",
              "      <td>no preference</td>\n",
              "      <td>solitary</td>\n",
              "      <td>public</td>\n",
              "      <td>single</td>\n",
              "      <td>independent</td>\n",
              "      <td>1989</td>\n",
              "      <td>technology</td>\n",
              "      <td>hard-worker</td>\n",
              "      <td>none</td>\n",
              "      <td>student</td>\n",
              "      <td>white</td>\n",
              "      <td>60</td>\n",
              "      <td>medium</td>\n",
              "      <td>1.64</td>\n",
              "    </tr>\n",
              "    <tr>\n",
              "      <th>1156</th>\n",
              "      <td>U1043</td>\n",
              "      <td>132630</td>\n",
              "      <td>1</td>\n",
              "      <td>1</td>\n",
              "      <td>1</td>\n",
              "      <td>23.771030</td>\n",
              "      <td>-99.167082</td>\n",
              "      <td>false</td>\n",
              "      <td>abstemious</td>\n",
              "      <td>no preference</td>\n",
              "      <td>solitary</td>\n",
              "      <td>public</td>\n",
              "      <td>single</td>\n",
              "      <td>independent</td>\n",
              "      <td>1989</td>\n",
              "      <td>technology</td>\n",
              "      <td>hard-worker</td>\n",
              "      <td>none</td>\n",
              "      <td>student</td>\n",
              "      <td>white</td>\n",
              "      <td>60</td>\n",
              "      <td>medium</td>\n",
              "      <td>1.64</td>\n",
              "    </tr>\n",
              "    <tr>\n",
              "      <th>1152</th>\n",
              "      <td>U1011</td>\n",
              "      <td>132717</td>\n",
              "      <td>2</td>\n",
              "      <td>2</td>\n",
              "      <td>1</td>\n",
              "      <td>23.724972</td>\n",
              "      <td>-99.152856</td>\n",
              "      <td>false</td>\n",
              "      <td>abstemious</td>\n",
              "      <td>no preference</td>\n",
              "      <td>family</td>\n",
              "      <td>public</td>\n",
              "      <td>single</td>\n",
              "      <td>independent</td>\n",
              "      <td>1989</td>\n",
              "      <td>variety</td>\n",
              "      <td>hard-worker</td>\n",
              "      <td>Catholic</td>\n",
              "      <td>student</td>\n",
              "      <td>purple</td>\n",
              "      <td>68</td>\n",
              "      <td>medium</td>\n",
              "      <td>1.78</td>\n",
              "    </tr>\n",
              "    <tr>\n",
              "      <th>1154</th>\n",
              "      <td>U1011</td>\n",
              "      <td>132564</td>\n",
              "      <td>1</td>\n",
              "      <td>1</td>\n",
              "      <td>1</td>\n",
              "      <td>23.724972</td>\n",
              "      <td>-99.152856</td>\n",
              "      <td>false</td>\n",
              "      <td>abstemious</td>\n",
              "      <td>no preference</td>\n",
              "      <td>family</td>\n",
              "      <td>public</td>\n",
              "      <td>single</td>\n",
              "      <td>independent</td>\n",
              "      <td>1989</td>\n",
              "      <td>variety</td>\n",
              "      <td>hard-worker</td>\n",
              "      <td>Catholic</td>\n",
              "      <td>student</td>\n",
              "      <td>purple</td>\n",
              "      <td>68</td>\n",
              "      <td>medium</td>\n",
              "      <td>1.78</td>\n",
              "    </tr>\n",
              "    <tr>\n",
              "      <th>1157</th>\n",
              "      <td>U1011</td>\n",
              "      <td>132715</td>\n",
              "      <td>1</td>\n",
              "      <td>1</td>\n",
              "      <td>0</td>\n",
              "      <td>23.724972</td>\n",
              "      <td>-99.152856</td>\n",
              "      <td>false</td>\n",
              "      <td>abstemious</td>\n",
              "      <td>no preference</td>\n",
              "      <td>family</td>\n",
              "      <td>public</td>\n",
              "      <td>single</td>\n",
              "      <td>independent</td>\n",
              "      <td>1989</td>\n",
              "      <td>variety</td>\n",
              "      <td>hard-worker</td>\n",
              "      <td>Catholic</td>\n",
              "      <td>student</td>\n",
              "      <td>purple</td>\n",
              "      <td>68</td>\n",
              "      <td>medium</td>\n",
              "      <td>1.78</td>\n",
              "    </tr>\n",
              "  </tbody>\n",
              "</table>\n",
              "<p>1161 rows × 23 columns</p>\n",
              "</div>"
            ],
            "text/plain": [
              "     userID  placeID  rating  food_rating  ...   color  weight  budget height\n",
              "0     U1077   135085       2            2  ...    blue      65  medium   1.71\n",
              "1     U1077   135038       2            2  ...    blue      65  medium   1.71\n",
              "2     U1077   132825       2            2  ...    blue      65  medium   1.71\n",
              "3     U1077   135060       1            2  ...    blue      65  medium   1.71\n",
              "433   U1077   135027       0            1  ...    blue      65  medium   1.71\n",
              "...     ...      ...     ...          ...  ...     ...     ...     ...    ...\n",
              "1155  U1043   132732       1            1  ...   white      60  medium   1.64\n",
              "1156  U1043   132630       1            1  ...   white      60  medium   1.64\n",
              "1152  U1011   132717       2            2  ...  purple      68  medium   1.78\n",
              "1154  U1011   132564       1            1  ...  purple      68  medium   1.78\n",
              "1157  U1011   132715       1            1  ...  purple      68  medium   1.78\n",
              "\n",
              "[1161 rows x 23 columns]"
            ]
          },
          "metadata": {
            "tags": []
          },
          "execution_count": 39
        }
      ]
    },
    {
      "cell_type": "code",
      "metadata": {
        "id": "NhUGibunvjOB",
        "colab": {
          "base_uri": "https://localhost:8080/",
          "height": 91
        },
        "outputId": "1cdd378f-06c7-4c13-a991-de0de88a8422"
      },
      "source": [
        "student_activity = gabung[gabung.activity.str.contains('student')][['userID','activity']]\n",
        "student_activity.userID.value_counts()[:3]"
      ],
      "execution_count": null,
      "outputs": [
        {
          "output_type": "execute_result",
          "data": {
            "text/plain": [
              "U1134    16\n",
              "U1022    14\n",
              "U1137    14\n",
              "Name: userID, dtype: int64"
            ]
          },
          "metadata": {
            "tags": []
          },
          "execution_count": 40
        }
      ]
    },
    {
      "cell_type": "markdown",
      "metadata": {
        "id": "wrOETHvAG8jY"
      },
      "source": [
        "##2. What are the 5 names of the restaurant most visited?"
      ]
    },
    {
      "cell_type": "code",
      "metadata": {
        "id": "sLGXxEmwqils",
        "colab": {
          "base_uri": "https://localhost:8080/",
          "height": 809
        },
        "outputId": "3b3c9a12-8945-4e11-b822-9c3fea55f435"
      },
      "source": [
        "join = pd.merge(dfrating, geo_places, left_on='placeID', right_on='placeID', how='left')\n",
        "join"
      ],
      "execution_count": null,
      "outputs": [
        {
          "output_type": "execute_result",
          "data": {
            "text/html": [
              "<div>\n",
              "<style scoped>\n",
              "    .dataframe tbody tr th:only-of-type {\n",
              "        vertical-align: middle;\n",
              "    }\n",
              "\n",
              "    .dataframe tbody tr th {\n",
              "        vertical-align: top;\n",
              "    }\n",
              "\n",
              "    .dataframe thead th {\n",
              "        text-align: right;\n",
              "    }\n",
              "</style>\n",
              "<table border=\"1\" class=\"dataframe\">\n",
              "  <thead>\n",
              "    <tr style=\"text-align: right;\">\n",
              "      <th></th>\n",
              "      <th>userID</th>\n",
              "      <th>placeID</th>\n",
              "      <th>rating</th>\n",
              "      <th>food_rating</th>\n",
              "      <th>service_rating</th>\n",
              "      <th>latitude</th>\n",
              "      <th>longitude</th>\n",
              "      <th>the_geom_meter</th>\n",
              "      <th>name</th>\n",
              "      <th>address</th>\n",
              "      <th>city</th>\n",
              "      <th>state</th>\n",
              "      <th>country</th>\n",
              "      <th>fax</th>\n",
              "      <th>zip</th>\n",
              "      <th>alcohol</th>\n",
              "      <th>smoking_area</th>\n",
              "      <th>dress_code</th>\n",
              "      <th>accessibility</th>\n",
              "      <th>price</th>\n",
              "      <th>url</th>\n",
              "      <th>Rambience</th>\n",
              "      <th>franchise</th>\n",
              "      <th>area</th>\n",
              "      <th>other_services</th>\n",
              "    </tr>\n",
              "  </thead>\n",
              "  <tbody>\n",
              "    <tr>\n",
              "      <th>0</th>\n",
              "      <td>U1077</td>\n",
              "      <td>135085</td>\n",
              "      <td>2</td>\n",
              "      <td>2</td>\n",
              "      <td>2</td>\n",
              "      <td>22.150802</td>\n",
              "      <td>-100.982680</td>\n",
              "      <td>0101000020957F00009F823DA6094858C18A2D4D37F9A4...</td>\n",
              "      <td>Tortas Locas Hipocampo</td>\n",
              "      <td>Venustiano Carranza 719 Centro</td>\n",
              "      <td>San Luis Potosi</td>\n",
              "      <td>San Luis Potosi</td>\n",
              "      <td>Mexico</td>\n",
              "      <td>?</td>\n",
              "      <td>78000</td>\n",
              "      <td>No_Alcohol_Served</td>\n",
              "      <td>not permitted</td>\n",
              "      <td>informal</td>\n",
              "      <td>no_accessibility</td>\n",
              "      <td>medium</td>\n",
              "      <td>?</td>\n",
              "      <td>familiar</td>\n",
              "      <td>f</td>\n",
              "      <td>closed</td>\n",
              "      <td>none</td>\n",
              "    </tr>\n",
              "    <tr>\n",
              "      <th>1</th>\n",
              "      <td>U1077</td>\n",
              "      <td>135038</td>\n",
              "      <td>2</td>\n",
              "      <td>2</td>\n",
              "      <td>1</td>\n",
              "      <td>22.155651</td>\n",
              "      <td>-100.977767</td>\n",
              "      <td>0101000020957F0000506149736E4758C1A8BC93DA48A3...</td>\n",
              "      <td>Restaurant la Chalita</td>\n",
              "      <td>Guajardo Sn San Luis Potosi Centro</td>\n",
              "      <td>San Luis Potosi</td>\n",
              "      <td>San Luis Potosi</td>\n",
              "      <td>Mexico</td>\n",
              "      <td>?</td>\n",
              "      <td>78000</td>\n",
              "      <td>No_Alcohol_Served</td>\n",
              "      <td>section</td>\n",
              "      <td>informal</td>\n",
              "      <td>no_accessibility</td>\n",
              "      <td>medium</td>\n",
              "      <td>?</td>\n",
              "      <td>familiar</td>\n",
              "      <td>f</td>\n",
              "      <td>closed</td>\n",
              "      <td>none</td>\n",
              "    </tr>\n",
              "    <tr>\n",
              "      <th>2</th>\n",
              "      <td>U1077</td>\n",
              "      <td>132825</td>\n",
              "      <td>2</td>\n",
              "      <td>2</td>\n",
              "      <td>2</td>\n",
              "      <td>22.147392</td>\n",
              "      <td>-100.983092</td>\n",
              "      <td>0101000020957F00001AD016568C4858C1243261274BA5...</td>\n",
              "      <td>puesto de tacos</td>\n",
              "      <td>esquina santos degollado y leon guzman</td>\n",
              "      <td>San Luis Potosi</td>\n",
              "      <td>San Luis Potosi</td>\n",
              "      <td>Mexico</td>\n",
              "      <td>?</td>\n",
              "      <td>78280</td>\n",
              "      <td>No_Alcohol_Served</td>\n",
              "      <td>none</td>\n",
              "      <td>informal</td>\n",
              "      <td>completely</td>\n",
              "      <td>low</td>\n",
              "      <td>?</td>\n",
              "      <td>familiar</td>\n",
              "      <td>f</td>\n",
              "      <td>open</td>\n",
              "      <td>none</td>\n",
              "    </tr>\n",
              "    <tr>\n",
              "      <th>3</th>\n",
              "      <td>U1077</td>\n",
              "      <td>135060</td>\n",
              "      <td>1</td>\n",
              "      <td>2</td>\n",
              "      <td>2</td>\n",
              "      <td>22.156883</td>\n",
              "      <td>-100.978485</td>\n",
              "      <td>0101000020957F00004C95C918394758C17A5C44896AA3...</td>\n",
              "      <td>Restaurante Marisco Sam</td>\n",
              "      <td>Ignacio Allende 785 Centro</td>\n",
              "      <td>San Luis Potosi</td>\n",
              "      <td>San Luis Potosi</td>\n",
              "      <td>Mexico</td>\n",
              "      <td>?</td>\n",
              "      <td>78310</td>\n",
              "      <td>No_Alcohol_Served</td>\n",
              "      <td>none</td>\n",
              "      <td>informal</td>\n",
              "      <td>no_accessibility</td>\n",
              "      <td>medium</td>\n",
              "      <td>?</td>\n",
              "      <td>familiar</td>\n",
              "      <td>f</td>\n",
              "      <td>closed</td>\n",
              "      <td>none</td>\n",
              "    </tr>\n",
              "    <tr>\n",
              "      <th>4</th>\n",
              "      <td>U1068</td>\n",
              "      <td>135104</td>\n",
              "      <td>1</td>\n",
              "      <td>1</td>\n",
              "      <td>2</td>\n",
              "      <td>23.752982</td>\n",
              "      <td>-99.168434</td>\n",
              "      <td>0101000020957F00007CDF5EAFC58157C1645743B23E4F...</td>\n",
              "      <td>vips</td>\n",
              "      <td>?</td>\n",
              "      <td></td>\n",
              "      <td></td>\n",
              "      <td></td>\n",
              "      <td>?</td>\n",
              "      <td>?</td>\n",
              "      <td>Full_Bar</td>\n",
              "      <td>not permitted</td>\n",
              "      <td>informal</td>\n",
              "      <td>completely</td>\n",
              "      <td>medium</td>\n",
              "      <td>?</td>\n",
              "      <td>familiar</td>\n",
              "      <td>t</td>\n",
              "      <td>closed</td>\n",
              "      <td>variety</td>\n",
              "    </tr>\n",
              "    <tr>\n",
              "      <th>...</th>\n",
              "      <td>...</td>\n",
              "      <td>...</td>\n",
              "      <td>...</td>\n",
              "      <td>...</td>\n",
              "      <td>...</td>\n",
              "      <td>...</td>\n",
              "      <td>...</td>\n",
              "      <td>...</td>\n",
              "      <td>...</td>\n",
              "      <td>...</td>\n",
              "      <td>...</td>\n",
              "      <td>...</td>\n",
              "      <td>...</td>\n",
              "      <td>...</td>\n",
              "      <td>...</td>\n",
              "      <td>...</td>\n",
              "      <td>...</td>\n",
              "      <td>...</td>\n",
              "      <td>...</td>\n",
              "      <td>...</td>\n",
              "      <td>...</td>\n",
              "      <td>...</td>\n",
              "      <td>...</td>\n",
              "      <td>...</td>\n",
              "      <td>...</td>\n",
              "    </tr>\n",
              "    <tr>\n",
              "      <th>1156</th>\n",
              "      <td>U1043</td>\n",
              "      <td>132630</td>\n",
              "      <td>1</td>\n",
              "      <td>1</td>\n",
              "      <td>1</td>\n",
              "      <td>23.752930</td>\n",
              "      <td>-99.164473</td>\n",
              "      <td>0101000020957F000047206572DE8157C1D3315028254E...</td>\n",
              "      <td>palomo tec</td>\n",
              "      <td>blvrd emilio portes gil</td>\n",
              "      <td>Ciudad Victoria</td>\n",
              "      <td>Tamaulipas</td>\n",
              "      <td></td>\n",
              "      <td>?</td>\n",
              "      <td>?</td>\n",
              "      <td>No_Alcohol_Served</td>\n",
              "      <td>none</td>\n",
              "      <td>informal</td>\n",
              "      <td>completely</td>\n",
              "      <td>low</td>\n",
              "      <td>?</td>\n",
              "      <td>familiar</td>\n",
              "      <td>f</td>\n",
              "      <td>closed</td>\n",
              "      <td>none</td>\n",
              "    </tr>\n",
              "    <tr>\n",
              "      <th>1157</th>\n",
              "      <td>U1011</td>\n",
              "      <td>132715</td>\n",
              "      <td>1</td>\n",
              "      <td>1</td>\n",
              "      <td>0</td>\n",
              "      <td>23.732423</td>\n",
              "      <td>-99.158660</td>\n",
              "      <td>0101000020957F00004609B96F198557C11973490A874D...</td>\n",
              "      <td>tacos de la estacion</td>\n",
              "      <td>?</td>\n",
              "      <td></td>\n",
              "      <td></td>\n",
              "      <td></td>\n",
              "      <td>?</td>\n",
              "      <td>?</td>\n",
              "      <td>No_Alcohol_Served</td>\n",
              "      <td>none</td>\n",
              "      <td>informal</td>\n",
              "      <td>no_accessibility</td>\n",
              "      <td>low</td>\n",
              "      <td>?</td>\n",
              "      <td>quiet</td>\n",
              "      <td>f</td>\n",
              "      <td>open</td>\n",
              "      <td>none</td>\n",
              "    </tr>\n",
              "    <tr>\n",
              "      <th>1158</th>\n",
              "      <td>U1068</td>\n",
              "      <td>132733</td>\n",
              "      <td>1</td>\n",
              "      <td>1</td>\n",
              "      <td>0</td>\n",
              "      <td>23.752707</td>\n",
              "      <td>-99.162565</td>\n",
              "      <td>0101000020957F0000F2F4110CF28157C1DCFD7C1BA04D...</td>\n",
              "      <td>Little Cesarz</td>\n",
              "      <td>?</td>\n",
              "      <td>Ciudad Victoria</td>\n",
              "      <td>Tamaulipas</td>\n",
              "      <td>Mexico</td>\n",
              "      <td>?</td>\n",
              "      <td>?</td>\n",
              "      <td>No_Alcohol_Served</td>\n",
              "      <td>not permitted</td>\n",
              "      <td>informal</td>\n",
              "      <td>completely</td>\n",
              "      <td>medium</td>\n",
              "      <td>?</td>\n",
              "      <td>familiar</td>\n",
              "      <td>t</td>\n",
              "      <td>closed</td>\n",
              "      <td>none</td>\n",
              "    </tr>\n",
              "    <tr>\n",
              "      <th>1159</th>\n",
              "      <td>U1068</td>\n",
              "      <td>132594</td>\n",
              "      <td>1</td>\n",
              "      <td>1</td>\n",
              "      <td>1</td>\n",
              "      <td>23.752168</td>\n",
              "      <td>-99.165709</td>\n",
              "      <td>0101000020957F00003AE4C6DBF48157C1CE38ECC1864E...</td>\n",
              "      <td>tacos de barbacoa enfrente del Tec</td>\n",
              "      <td>?</td>\n",
              "      <td></td>\n",
              "      <td></td>\n",
              "      <td></td>\n",
              "      <td>?</td>\n",
              "      <td>?</td>\n",
              "      <td>No_Alcohol_Served</td>\n",
              "      <td>not permitted</td>\n",
              "      <td>informal</td>\n",
              "      <td>completely</td>\n",
              "      <td>low</td>\n",
              "      <td>?</td>\n",
              "      <td>familiar</td>\n",
              "      <td>f</td>\n",
              "      <td>open</td>\n",
              "      <td>none</td>\n",
              "    </tr>\n",
              "    <tr>\n",
              "      <th>1160</th>\n",
              "      <td>U1068</td>\n",
              "      <td>132660</td>\n",
              "      <td>0</td>\n",
              "      <td>0</td>\n",
              "      <td>0</td>\n",
              "      <td>23.752943</td>\n",
              "      <td>-99.164679</td>\n",
              "      <td>0101000020957F00003D7905C9DC8157C13FCD1AB7334E...</td>\n",
              "      <td>carnitas mata calle Emilio Portes Gil</td>\n",
              "      <td>Emilio Portes Gil</td>\n",
              "      <td>Ciudad Victoria</td>\n",
              "      <td>Tamaulipas</td>\n",
              "      <td></td>\n",
              "      <td>?</td>\n",
              "      <td>?</td>\n",
              "      <td>No_Alcohol_Served</td>\n",
              "      <td>none</td>\n",
              "      <td>informal</td>\n",
              "      <td>completely</td>\n",
              "      <td>low</td>\n",
              "      <td>?</td>\n",
              "      <td>familiar</td>\n",
              "      <td>f</td>\n",
              "      <td>closed</td>\n",
              "      <td>none</td>\n",
              "    </tr>\n",
              "  </tbody>\n",
              "</table>\n",
              "<p>1161 rows × 25 columns</p>\n",
              "</div>"
            ],
            "text/plain": [
              "     userID  placeID  rating  ...  franchise    area  other_services\n",
              "0     U1077   135085       2  ...          f  closed            none\n",
              "1     U1077   135038       2  ...          f  closed            none\n",
              "2     U1077   132825       2  ...          f    open            none\n",
              "3     U1077   135060       1  ...          f  closed            none\n",
              "4     U1068   135104       1  ...          t  closed         variety\n",
              "...     ...      ...     ...  ...        ...     ...             ...\n",
              "1156  U1043   132630       1  ...          f  closed            none\n",
              "1157  U1011   132715       1  ...          f    open            none\n",
              "1158  U1068   132733       1  ...          t  closed            none\n",
              "1159  U1068   132594       1  ...          f    open            none\n",
              "1160  U1068   132660       0  ...          f  closed            none\n",
              "\n",
              "[1161 rows x 25 columns]"
            ]
          },
          "metadata": {
            "tags": []
          },
          "execution_count": 41
        }
      ]
    },
    {
      "cell_type": "code",
      "metadata": {
        "id": "XvB-gHYstM4e",
        "colab": {
          "base_uri": "https://localhost:8080/",
          "height": 128
        },
        "outputId": "ed201b76-a436-458b-ad1c-511a682ae2d5"
      },
      "source": [
        "join.name.value_counts()[:5]"
      ],
      "execution_count": null,
      "outputs": [
        {
          "output_type": "execute_result",
          "data": {
            "text/plain": [
              "Tortas Locas Hipocampo                36\n",
              "puesto de tacos                       32\n",
              "Cafeteria y Restaurant El Pacifico    28\n",
              "Gorditas Doa Gloria                   25\n",
              "La Cantina Restaurante                25\n",
              "Name: name, dtype: int64"
            ]
          },
          "metadata": {
            "tags": []
          },
          "execution_count": 42
        }
      ]
    },
    {
      "cell_type": "markdown",
      "metadata": {
        "id": "5tVKIwaVVObB"
      },
      "source": [
        "##3. Is being the most visited mean having the highest rating?"
      ]
    },
    {
      "cell_type": "code",
      "metadata": {
        "id": "KThlnkOEGzvi",
        "colab": {
          "base_uri": "https://localhost:8080/",
          "height": 74
        },
        "outputId": "a6daaa34-4fa9-45da-df6c-8a4e1770c21e"
      },
      "source": [
        "group_rating = dfrating.groupby(['placeID'])['rating', 'food_rating', 'service_rating'].agg('mean')\n",
        "highest_rating = pd.merge(group_rating, geo_places, left_on='placeID', right_on='placeID', how='left')\n",
        "highest_rating = highest_rating.sort_values('rating', ascending=False)\n",
        "highest_rating = highest_rating[['placeID', 'rating', 'name']]"
      ],
      "execution_count": null,
      "outputs": [
        {
          "output_type": "stream",
          "text": [
            "/usr/local/lib/python3.6/dist-packages/ipykernel_launcher.py:1: FutureWarning: Indexing with multiple keys (implicitly converted to a tuple of keys) will be deprecated, use a list instead.\n",
            "  \"\"\"Entry point for launching an IPython kernel.\n"
          ],
          "name": "stderr"
        }
      ]
    },
    {
      "cell_type": "code",
      "metadata": {
        "id": "suzuqDU2uc2L",
        "colab": {
          "base_uri": "https://localhost:8080/",
          "height": 206
        },
        "outputId": "80a6f78a-5512-4448-b2e2-f4d64607a5e0"
      },
      "source": [
        "highest_rating.head(5)"
      ],
      "execution_count": null,
      "outputs": [
        {
          "output_type": "execute_result",
          "data": {
            "text/html": [
              "<div>\n",
              "<style scoped>\n",
              "    .dataframe tbody tr th:only-of-type {\n",
              "        vertical-align: middle;\n",
              "    }\n",
              "\n",
              "    .dataframe tbody tr th {\n",
              "        vertical-align: top;\n",
              "    }\n",
              "\n",
              "    .dataframe thead th {\n",
              "        text-align: right;\n",
              "    }\n",
              "</style>\n",
              "<table border=\"1\" class=\"dataframe\">\n",
              "  <thead>\n",
              "    <tr style=\"text-align: right;\">\n",
              "      <th></th>\n",
              "      <th>placeID</th>\n",
              "      <th>rating</th>\n",
              "      <th>name</th>\n",
              "    </tr>\n",
              "  </thead>\n",
              "  <tbody>\n",
              "    <tr>\n",
              "      <th>57</th>\n",
              "      <td>132955</td>\n",
              "      <td>2.000000</td>\n",
              "      <td>emilianos</td>\n",
              "    </tr>\n",
              "    <tr>\n",
              "      <th>82</th>\n",
              "      <td>135034</td>\n",
              "      <td>2.000000</td>\n",
              "      <td>Michiko Restaurant Japones</td>\n",
              "    </tr>\n",
              "    <tr>\n",
              "      <th>62</th>\n",
              "      <td>134986</td>\n",
              "      <td>2.000000</td>\n",
              "      <td>Restaurant Las Mananitas</td>\n",
              "    </tr>\n",
              "    <tr>\n",
              "      <th>52</th>\n",
              "      <td>132922</td>\n",
              "      <td>1.833333</td>\n",
              "      <td>cafe punta del cielo</td>\n",
              "    </tr>\n",
              "    <tr>\n",
              "      <th>26</th>\n",
              "      <td>132755</td>\n",
              "      <td>1.800000</td>\n",
              "      <td>La Estrella de Dimas</td>\n",
              "    </tr>\n",
              "  </tbody>\n",
              "</table>\n",
              "</div>"
            ],
            "text/plain": [
              "    placeID    rating                        name\n",
              "57   132955  2.000000                   emilianos\n",
              "82   135034  2.000000  Michiko Restaurant Japones\n",
              "62   134986  2.000000    Restaurant Las Mananitas\n",
              "52   132922  1.833333        cafe punta del cielo\n",
              "26   132755  1.800000        La Estrella de Dimas"
            ]
          },
          "metadata": {
            "tags": []
          },
          "execution_count": 44
        }
      ]
    },
    {
      "cell_type": "markdown",
      "metadata": {
        "id": "MoOvRMrnLqxM"
      },
      "source": [
        "##4. What 5 restaurants having the highest average rating?"
      ]
    },
    {
      "cell_type": "code",
      "metadata": {
        "id": "1J8SF4G1NFmg",
        "colab": {
          "base_uri": "https://localhost:8080/",
          "height": 512
        },
        "outputId": "cc67ee3f-4833-4c50-b428-d4610c610325"
      },
      "source": [
        "group = dfrating.groupby(['placeID'])['rating', 'food_rating', 'service_rating'].agg('mean')\n",
        "average_rating = np.mean(group, axis=1)\n",
        "group['average_rating'] = average_rating\n",
        "group"
      ],
      "execution_count": null,
      "outputs": [
        {
          "output_type": "stream",
          "text": [
            "/usr/local/lib/python3.6/dist-packages/ipykernel_launcher.py:1: FutureWarning: Indexing with multiple keys (implicitly converted to a tuple of keys) will be deprecated, use a list instead.\n",
            "  \"\"\"Entry point for launching an IPython kernel.\n"
          ],
          "name": "stderr"
        },
        {
          "output_type": "execute_result",
          "data": {
            "text/html": [
              "<div>\n",
              "<style scoped>\n",
              "    .dataframe tbody tr th:only-of-type {\n",
              "        vertical-align: middle;\n",
              "    }\n",
              "\n",
              "    .dataframe tbody tr th {\n",
              "        vertical-align: top;\n",
              "    }\n",
              "\n",
              "    .dataframe thead th {\n",
              "        text-align: right;\n",
              "    }\n",
              "</style>\n",
              "<table border=\"1\" class=\"dataframe\">\n",
              "  <thead>\n",
              "    <tr style=\"text-align: right;\">\n",
              "      <th></th>\n",
              "      <th>rating</th>\n",
              "      <th>food_rating</th>\n",
              "      <th>service_rating</th>\n",
              "      <th>average_rating</th>\n",
              "    </tr>\n",
              "    <tr>\n",
              "      <th>placeID</th>\n",
              "      <th></th>\n",
              "      <th></th>\n",
              "      <th></th>\n",
              "      <th></th>\n",
              "    </tr>\n",
              "  </thead>\n",
              "  <tbody>\n",
              "    <tr>\n",
              "      <th>132560</th>\n",
              "      <td>0.500000</td>\n",
              "      <td>1.000000</td>\n",
              "      <td>0.250000</td>\n",
              "      <td>0.583333</td>\n",
              "    </tr>\n",
              "    <tr>\n",
              "      <th>132561</th>\n",
              "      <td>0.750000</td>\n",
              "      <td>1.000000</td>\n",
              "      <td>1.000000</td>\n",
              "      <td>0.916667</td>\n",
              "    </tr>\n",
              "    <tr>\n",
              "      <th>132564</th>\n",
              "      <td>1.250000</td>\n",
              "      <td>1.250000</td>\n",
              "      <td>1.500000</td>\n",
              "      <td>1.333333</td>\n",
              "    </tr>\n",
              "    <tr>\n",
              "      <th>132572</th>\n",
              "      <td>1.000000</td>\n",
              "      <td>1.000000</td>\n",
              "      <td>0.933333</td>\n",
              "      <td>0.977778</td>\n",
              "    </tr>\n",
              "    <tr>\n",
              "      <th>132583</th>\n",
              "      <td>1.000000</td>\n",
              "      <td>1.000000</td>\n",
              "      <td>1.250000</td>\n",
              "      <td>1.083333</td>\n",
              "    </tr>\n",
              "    <tr>\n",
              "      <th>...</th>\n",
              "      <td>...</td>\n",
              "      <td>...</td>\n",
              "      <td>...</td>\n",
              "      <td>...</td>\n",
              "    </tr>\n",
              "    <tr>\n",
              "      <th>135088</th>\n",
              "      <td>1.000000</td>\n",
              "      <td>1.166667</td>\n",
              "      <td>1.000000</td>\n",
              "      <td>1.055556</td>\n",
              "    </tr>\n",
              "    <tr>\n",
              "      <th>135104</th>\n",
              "      <td>0.857143</td>\n",
              "      <td>1.428571</td>\n",
              "      <td>0.857143</td>\n",
              "      <td>1.047619</td>\n",
              "    </tr>\n",
              "    <tr>\n",
              "      <th>135106</th>\n",
              "      <td>1.200000</td>\n",
              "      <td>1.200000</td>\n",
              "      <td>1.200000</td>\n",
              "      <td>1.200000</td>\n",
              "    </tr>\n",
              "    <tr>\n",
              "      <th>135108</th>\n",
              "      <td>1.181818</td>\n",
              "      <td>1.181818</td>\n",
              "      <td>1.000000</td>\n",
              "      <td>1.121212</td>\n",
              "    </tr>\n",
              "    <tr>\n",
              "      <th>135109</th>\n",
              "      <td>1.000000</td>\n",
              "      <td>1.250000</td>\n",
              "      <td>0.750000</td>\n",
              "      <td>1.000000</td>\n",
              "    </tr>\n",
              "  </tbody>\n",
              "</table>\n",
              "<p>130 rows × 4 columns</p>\n",
              "</div>"
            ],
            "text/plain": [
              "           rating  food_rating  service_rating  average_rating\n",
              "placeID                                                       \n",
              "132560   0.500000     1.000000        0.250000        0.583333\n",
              "132561   0.750000     1.000000        1.000000        0.916667\n",
              "132564   1.250000     1.250000        1.500000        1.333333\n",
              "132572   1.000000     1.000000        0.933333        0.977778\n",
              "132583   1.000000     1.000000        1.250000        1.083333\n",
              "...           ...          ...             ...             ...\n",
              "135088   1.000000     1.166667        1.000000        1.055556\n",
              "135104   0.857143     1.428571        0.857143        1.047619\n",
              "135106   1.200000     1.200000        1.200000        1.200000\n",
              "135108   1.181818     1.181818        1.000000        1.121212\n",
              "135109   1.000000     1.250000        0.750000        1.000000\n",
              "\n",
              "[130 rows x 4 columns]"
            ]
          },
          "metadata": {
            "tags": []
          },
          "execution_count": 45
        }
      ]
    },
    {
      "cell_type": "code",
      "metadata": {
        "id": "DparCSFwQXh3",
        "colab": {
          "base_uri": "https://localhost:8080/",
          "height": 206
        },
        "outputId": "d77241d5-d866-433b-946d-8b551450fe06"
      },
      "source": [
        "place = pd.merge(group, geo_places, left_on='placeID', right_on='placeID', how='right')\n",
        "place_average_rating = place.sort_values('average_rating', ascending=False)\n",
        "place_average_rating = place_average_rating[['placeID', 'rating', 'food_rating', 'service_rating', 'average_rating', 'name']]\n",
        "place_average_rating.head(5)"
      ],
      "execution_count": null,
      "outputs": [
        {
          "output_type": "execute_result",
          "data": {
            "text/html": [
              "<div>\n",
              "<style scoped>\n",
              "    .dataframe tbody tr th:only-of-type {\n",
              "        vertical-align: middle;\n",
              "    }\n",
              "\n",
              "    .dataframe tbody tr th {\n",
              "        vertical-align: top;\n",
              "    }\n",
              "\n",
              "    .dataframe thead th {\n",
              "        text-align: right;\n",
              "    }\n",
              "</style>\n",
              "<table border=\"1\" class=\"dataframe\">\n",
              "  <thead>\n",
              "    <tr style=\"text-align: right;\">\n",
              "      <th></th>\n",
              "      <th>placeID</th>\n",
              "      <th>rating</th>\n",
              "      <th>food_rating</th>\n",
              "      <th>service_rating</th>\n",
              "      <th>average_rating</th>\n",
              "      <th>name</th>\n",
              "    </tr>\n",
              "  </thead>\n",
              "  <tbody>\n",
              "    <tr>\n",
              "      <th>62</th>\n",
              "      <td>134986</td>\n",
              "      <td>2.00</td>\n",
              "      <td>2.0</td>\n",
              "      <td>2.00</td>\n",
              "      <td>2.000000</td>\n",
              "      <td>Restaurant Las Mananitas</td>\n",
              "    </tr>\n",
              "    <tr>\n",
              "      <th>57</th>\n",
              "      <td>132955</td>\n",
              "      <td>2.00</td>\n",
              "      <td>1.8</td>\n",
              "      <td>1.80</td>\n",
              "      <td>1.866667</td>\n",
              "      <td>emilianos</td>\n",
              "    </tr>\n",
              "    <tr>\n",
              "      <th>82</th>\n",
              "      <td>135034</td>\n",
              "      <td>2.00</td>\n",
              "      <td>2.0</td>\n",
              "      <td>1.60</td>\n",
              "      <td>1.866667</td>\n",
              "      <td>Michiko Restaurant Japones</td>\n",
              "    </tr>\n",
              "    <tr>\n",
              "      <th>70</th>\n",
              "      <td>135013</td>\n",
              "      <td>1.75</td>\n",
              "      <td>2.0</td>\n",
              "      <td>1.75</td>\n",
              "      <td>1.833333</td>\n",
              "      <td>Giovannis</td>\n",
              "    </tr>\n",
              "    <tr>\n",
              "      <th>26</th>\n",
              "      <td>132755</td>\n",
              "      <td>1.80</td>\n",
              "      <td>2.0</td>\n",
              "      <td>1.60</td>\n",
              "      <td>1.800000</td>\n",
              "      <td>La Estrella de Dimas</td>\n",
              "    </tr>\n",
              "  </tbody>\n",
              "</table>\n",
              "</div>"
            ],
            "text/plain": [
              "    placeID  rating  ...  average_rating                        name\n",
              "62   134986    2.00  ...        2.000000    Restaurant Las Mananitas\n",
              "57   132955    2.00  ...        1.866667                   emilianos\n",
              "82   135034    2.00  ...        1.866667  Michiko Restaurant Japones\n",
              "70   135013    1.75  ...        1.833333                   Giovannis\n",
              "26   132755    1.80  ...        1.800000        La Estrella de Dimas\n",
              "\n",
              "[5 rows x 6 columns]"
            ]
          },
          "metadata": {
            "tags": []
          },
          "execution_count": 46
        }
      ]
    },
    {
      "cell_type": "markdown",
      "metadata": {
        "id": "bap4Vt4RZI23"
      },
      "source": [
        "# **2 Restaurants Recommended**"
      ]
    },
    {
      "cell_type": "code",
      "metadata": {
        "id": "xPRVyyIKxcby",
        "colab": {
          "base_uri": "https://localhost:8080/",
          "height": 238
        },
        "outputId": "4880262a-3fd8-4a52-c816-65a52498c059"
      },
      "source": [
        "recom = place.copy()\n",
        "recom = pd.merge(recom, resto_cuisine, left_on='placeID', right_on='placeID', how='right')\n",
        "recom = pd.merge(recom, resto_accepts, left_on='placeID', right_on='placeID', how='right')\n",
        "recommended = recom.loc[(recom.city == 'San Luis Potosi') & (recom.Rcuisine == 'Japanese') & (recom.Rpayment != 'Cash')]\n",
        "recommended[['placeID', 'average_rating', 'name', 'city', 'Rcuisine', 'Rpayment']]"
      ],
      "execution_count": null,
      "outputs": [
        {
          "output_type": "execute_result",
          "data": {
            "text/html": [
              "<div>\n",
              "<style scoped>\n",
              "    .dataframe tbody tr th:only-of-type {\n",
              "        vertical-align: middle;\n",
              "    }\n",
              "\n",
              "    .dataframe tbody tr th {\n",
              "        vertical-align: top;\n",
              "    }\n",
              "\n",
              "    .dataframe thead th {\n",
              "        text-align: right;\n",
              "    }\n",
              "</style>\n",
              "<table border=\"1\" class=\"dataframe\">\n",
              "  <thead>\n",
              "    <tr style=\"text-align: right;\">\n",
              "      <th></th>\n",
              "      <th>placeID</th>\n",
              "      <th>average_rating</th>\n",
              "      <th>name</th>\n",
              "      <th>city</th>\n",
              "      <th>Rcuisine</th>\n",
              "      <th>Rpayment</th>\n",
              "    </tr>\n",
              "  </thead>\n",
              "  <tbody>\n",
              "    <tr>\n",
              "      <th>135</th>\n",
              "      <td>135034</td>\n",
              "      <td>1.866667</td>\n",
              "      <td>Michiko Restaurant Japones</td>\n",
              "      <td>San Luis Potosi</td>\n",
              "      <td>Japanese</td>\n",
              "      <td>VISA</td>\n",
              "    </tr>\n",
              "    <tr>\n",
              "      <th>136</th>\n",
              "      <td>135034</td>\n",
              "      <td>1.866667</td>\n",
              "      <td>Michiko Restaurant Japones</td>\n",
              "      <td>San Luis Potosi</td>\n",
              "      <td>Japanese</td>\n",
              "      <td>Mastercard Eurocard</td>\n",
              "    </tr>\n",
              "    <tr>\n",
              "      <th>137</th>\n",
              "      <td>135034</td>\n",
              "      <td>1.866667</td>\n",
              "      <td>Michiko Restaurant Japones</td>\n",
              "      <td>San Luis Potosi</td>\n",
              "      <td>Japanese</td>\n",
              "      <td>American Express</td>\n",
              "    </tr>\n",
              "    <tr>\n",
              "      <th>201</th>\n",
              "      <td>135072</td>\n",
              "      <td>1.291667</td>\n",
              "      <td>Sushi Itto</td>\n",
              "      <td>San Luis Potosi</td>\n",
              "      <td>Japanese</td>\n",
              "      <td>VISA</td>\n",
              "    </tr>\n",
              "    <tr>\n",
              "      <th>202</th>\n",
              "      <td>135072</td>\n",
              "      <td>1.291667</td>\n",
              "      <td>Sushi Itto</td>\n",
              "      <td>San Luis Potosi</td>\n",
              "      <td>Japanese</td>\n",
              "      <td>Mastercard Eurocard</td>\n",
              "    </tr>\n",
              "    <tr>\n",
              "      <th>203</th>\n",
              "      <td>135072</td>\n",
              "      <td>1.291667</td>\n",
              "      <td>Sushi Itto</td>\n",
              "      <td>San Luis Potosi</td>\n",
              "      <td>Japanese</td>\n",
              "      <td>American Express</td>\n",
              "    </tr>\n",
              "  </tbody>\n",
              "</table>\n",
              "</div>"
            ],
            "text/plain": [
              "     placeID  average_rating  ...  Rcuisine             Rpayment\n",
              "135   135034        1.866667  ...  Japanese                 VISA\n",
              "136   135034        1.866667  ...  Japanese  Mastercard Eurocard\n",
              "137   135034        1.866667  ...  Japanese     American Express\n",
              "201   135072        1.291667  ...  Japanese                 VISA\n",
              "202   135072        1.291667  ...  Japanese  Mastercard Eurocard\n",
              "203   135072        1.291667  ...  Japanese     American Express\n",
              "\n",
              "[6 rows x 6 columns]"
            ]
          },
          "metadata": {
            "tags": []
          },
          "execution_count": 47
        }
      ]
    }
  ]
}